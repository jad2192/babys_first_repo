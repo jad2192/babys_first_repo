{
 "cells": [
  {
   "cell_type": "code",
   "execution_count": 1,
   "metadata": {
    "collapsed": true
   },
   "outputs": [],
   "source": [
    "import numpy as np"
   ]
  },
  {
   "cell_type": "code",
   "execution_count": 102,
   "metadata": {
    "collapsed": false
   },
   "outputs": [],
   "source": [
    "class LinReg(object):\n",
    "    \n",
    "    def __init__(self,regularization=None, lam=1, alpha=0.001, beta_1=0.9, beta_2=0.999):\n",
    "        ''' Linear regressor fit via Adaptive Momentum Stochastic Gradient Descent (ADAM).\n",
    "            See here: https://arxiv.org/pdf/1412.6980.pdf\n",
    "            ------------------------------------------------------------------------------------------------\n",
    "            Parameters:\n",
    "            regularization: None, L2, or L1 for ordinary least squares, ridge regression and LASSO resp.\n",
    "                            Default None.\n",
    "            lam: Regularization parameter lambda, controls weight of regularization parameter.\n",
    "            alpha, beta_1 and beta_2: Tunable paramters of the ADAM algorithm, set to suggested defaults.\n",
    "            ''' \n",
    "        self.lam = lam\n",
    "        self.alpha, self.beta_1, self.beta_2 = alpha, beta_1, beta_2\n",
    "        self.params = None\n",
    "        self.domain_size = -1\n",
    "        self.is_fit = False\n",
    "        \n",
    "        if regularization == 'L2' or regularization == 'L1':\n",
    "            self.reg = True\n",
    "            self.reg_type = regularization\n",
    "        else:\n",
    "            self.reg = False\n",
    "    \n",
    "    def fit(self, X, y):\n",
    "        \n",
    "        if type(X) != np.ndarray or type(y) != np.ndarray:\n",
    "            print('Error: Please make sure data is entered as numpy d-array.')\n",
    "            return\n",
    "        \n",
    "        N, p = X.shape[0], 1\n",
    "        \n",
    "        if len(X.shape) > 1:\n",
    "            p = X.shape[1]\n",
    "        \n",
    "        self.domain_size = p\n",
    "            \n",
    "        if len(y.shape) > 1:\n",
    "            print('Error: Please enter values as a 1-D array')\n",
    "            return\n",
    "        \n",
    "        if N != y.shape[0]:\n",
    "            print('Error: Data shapes do not match')\n",
    "            return\n",
    "        \n",
    "        if p == 1 and self.reg == False:\n",
    "            # Simple linear regression case will not use ADAM but the deterministic solution.\n",
    "            # https://en.wikipedia.org/wiki/Simple_linear_regression#Fitting_the_regression_line\n",
    "            \n",
    "            X_m, y_m = X.mean(), y.mean()\n",
    "            slope = ((X - X_m) * (y - y_m)).sum() / ((X - X_m)**2).sum()\n",
    "            bias = y_m - (slope * X_m)\n",
    "            self.params = np.array([bias,slope])\n",
    "            self.is_fit = True\n",
    "            return\n",
    "        \n",
    "        def grad(theta, X_i, y_i):\n",
    "            g = np.zeros(p+1)\n",
    "            X_b = np.append(np.array([1]),X_i)\n",
    "            f = y_i - np.dot(theta,X_b)\n",
    "            \n",
    "            if self.reg == False:\n",
    "                for j in range(p+1):\n",
    "                    g[j] = -2 * X_b[j] * f\n",
    "                return g\n",
    "            \n",
    "            elif self.reg_type == 'L2':\n",
    "                for j in range(p+1):\n",
    "                    g[j] = 2 *((-X_b[j] * f) + ((self.lam / N) * theta[j]))\n",
    "                return g\n",
    "            \n",
    "            else:\n",
    "                for j in range(p+1):\n",
    "                    if theta[j] > 0:\n",
    "                        l_1 = self.lam / N\n",
    "                    elif theta[j]< 0:\n",
    "                        l_1 = -self.lam / N\n",
    "                    else:\n",
    "                        l_1 = 0\n",
    "                    \n",
    "                    g[j] = (-2 * X_b[j] * f) + l_1\n",
    "                return g\n",
    "        \n",
    "        # Now start ADAM\n",
    "        \n",
    "        nb_epochs = max(10000, N // 50)  # Fixed epoch size. In future may change to early stop based on hold-out.\n",
    "        mini_batch_size = min(N,50)\n",
    "        theta = np.zeros(p+1)\n",
    "        m, v = np.zeros(p+1), np.zeros(p+1)\n",
    "        \n",
    "        for k in range(nb_epochs):\n",
    "            I = np.random.choice(N,mini_batch_size,replace=False)\n",
    "            \n",
    "            g = np.zeros(p+1)\n",
    "            for j in I:\n",
    "                g = g + grad(theta,X[j],y[j])\n",
    "                \n",
    "            m = (self.beta_1 * m) + ((1-self.beta_1) * g)\n",
    "            v = (self.beta_2 * v) + ((1 - self.beta_2) * (g**2))\n",
    "            m_b = m / (1 - self.beta_1**(k+1))\n",
    "            v_b = v / (1 - self.beta_2**(k+1))\n",
    "            theta = theta - ((self.alpha * m_b) / (np.sqrt(v_b) + 1e-8))\n",
    "        \n",
    "        self.params = theta\n",
    "        self.is_fit = True\n",
    "        \n",
    "        \n",
    "        \n",
    "    def predict(self, x):\n",
    "        \n",
    "        if self.is_fit == False:\n",
    "            print('Error: The model has not yet been fit to the data')\n",
    "            return\n",
    "        \n",
    "        elif len(x.shape) == 1 and self.domain_size != 1:\n",
    "            print('Error: Data has incorrect number of parameters')\n",
    "            return\n",
    "        \n",
    "        elif len(x.shape) > 1 and self.domain_size != x.shape[1]:\n",
    "            print('Error: Data has incorrect number of parameters')\n",
    "            return\n",
    "        \n",
    "        elif type(x) != np.ndarray:\n",
    "            print('Error: Data must be a numpy array')\n",
    "            return\n",
    "        \n",
    "        elif len(x.shape) == 1:\n",
    "            y_b = np.zeros(x.shape[0])\n",
    "            \n",
    "            for k in range(x.shape[0]):\n",
    "                x_b = np.array([1,x[k]])\n",
    "                y_b[k] = np.dot(x_b,self.params)\n",
    "            return y_b\n",
    "        \n",
    "        else:\n",
    "            y_b = np.zeros(x.shape[0])\n",
    "            \n",
    "            for k in range(x.shape[0]):\n",
    "                x_b = np.append(np.array([1]),x[k])\n",
    "                y_b[k] = np.dot(x_b,self.params)\n",
    "            return y_b      "
   ]
  },
  {
   "cell_type": "code",
   "execution_count": 92,
   "metadata": {
    "collapsed": false
   },
   "outputs": [],
   "source": [
    "# Testing regressor on 1-D data set.\n",
    "\n",
    "X_1 = np.arange(0,100,3)\n",
    "E = 20 * np.random.randn(34)\n",
    "y_1 = 2 * X_1 + 34 + E\n",
    "\n",
    "\n",
    "reg = LinReg()\n",
    "\n",
    "reg.fit(X_1,y_1)"
   ]
  },
  {
   "cell_type": "code",
   "execution_count": 58,
   "metadata": {
    "collapsed": true
   },
   "outputs": [],
   "source": [
    "import matplotlib as mpl\n",
    "from matplotlib import pyplot as plt\n",
    "\n",
    "%matplotlib inline"
   ]
  },
  {
   "cell_type": "code",
   "execution_count": 109,
   "metadata": {
    "collapsed": true
   },
   "outputs": [],
   "source": [
    "reg2 = LinReg(regularization='L2',lam=0)\n",
    "reg2.fit(X_1,y_1)"
   ]
  },
  {
   "cell_type": "code",
   "execution_count": 110,
   "metadata": {
    "collapsed": false
   },
   "outputs": [
    {
     "data": {
      "text/plain": [
       "[<matplotlib.lines.Line2D at 0x7f98ea0a7ba8>]"
      ]
     },
     "execution_count": 110,
     "metadata": {},
     "output_type": "execute_result"
    },
    {
     "data": {
      "image/png": "[encoded data removed]",
      "text/plain": [
       "<matplotlib.figure.Figure at 0x7f98ea0a77b8>"
      ]
     },
     "metadata": {},
     "output_type": "display_data"
    }
   ],
   "source": [
    "plt.scatter(X_1,y_1)\n",
    "dom = np.arange(0,100,0.25)\n",
    "plt.plot(dom,reg.predict(dom), color='red')\n",
    "plt.plot(dom,reg2.predict(dom), color='green')"
   ]
  },
  {
   "cell_type": "code",
   "execution_count": null,
   "metadata": {
    "collapsed": true
   },
   "outputs": [],
   "source": []
  }
 ],
 "metadata": {
  "kernelspec": {
   "display_name": "Python [Root]",
   "language": "python",
   "name": "Python [Root]"
  },
  "language_info": {
   "codemirror_mode": {
    "name": "ipython",
    "version": 3
   },
   "file_extension": ".py",
   "mimetype": "text/x-python",
   "name": "python",
   "nbconvert_exporter": "python",
   "pygments_lexer": "ipython3",
   "version": "3.5.2"
  }
 },
 "nbformat": 4,
 "nbformat_minor": 0
}
