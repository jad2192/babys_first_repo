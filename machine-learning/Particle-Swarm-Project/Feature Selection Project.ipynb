{
 "cells": [
  {
   "cell_type": "code",
   "execution_count": 1,
   "metadata": {
    "collapsed": true
   },
   "outputs": [],
   "source": [
    "import numpy as np\n",
    "import sklearn\n",
    "from sklearn.linear_model import LogisticRegression\n",
    "from sklearn.svm import SVC\n",
    "from sklearn.metrics import f1_score, confusion_matrix, roc_auc_score\n",
    "import seaborn as sns\n",
    "from matplotlib import pyplot as plt\n",
    "%matplotlib inline"
   ]
  },
  {
   "cell_type": "code",
   "execution_count": 2,
   "metadata": {
    "collapsed": true
   },
   "outputs": [],
   "source": [
    "def balanced_error_rate(y_true, y_test):\n",
    "    \n",
    "    conf = confusion_matrix(y_true, y_test)\n",
    "    \n",
    "    return 0.5 * (conf[0,1] / conf[0].sum()) + 0.5 * (conf[1,0] / conf[1].sum())\n",
    "\n",
    "def error_metrics(y_true, y_test):\n",
    "    \n",
    "    print('BER: ', balanced_error_rate(y_true, y_test))\n",
    "    print('F1: ', f1_score(y_true, y_test))"
   ]
  },
  {
   "cell_type": "code",
   "execution_count": 3,
   "metadata": {
    "collapsed": true
   },
   "outputs": [],
   "source": [
    "def load_data(data_name):\n",
    "    '''data_name:  'arcene', 'dorothea', 'gisette', 'dexter', or 'madelon'. '''\n",
    "    \n",
    "    fp = '/home/james/anaconda3/data/' + data_name.upper() + '/'\n",
    "    \n",
    "    if data_name not in ['dorothea', 'dexter']:\n",
    "        \n",
    "        X_train = np.loadtxt(fp + data_name + '_train.data')\n",
    "        y_train = np.loadtxt(fp + data_name + '_train.labels')\n",
    "        X_test = np.loadtxt(fp + data_name + '_valid.data')\n",
    "        y_test = np.loadtxt(fp + data_name + '_valid.labels')\n",
    "        y_train = np.asanyarray((y_train + 1) // 2, dtype = 'i8')\n",
    "        y_test = np.asanyarray((y_test + 1) // 2, dtype = 'i8')\n",
    "        \n",
    "    else:\n",
    "        \n",
    "        X_train = np.load(fp + data_name + '_train.npy')\n",
    "        y_train = np.loadtxt(fp + data_name + '_train.labels')\n",
    "        X_test = np.load(fp + data_name + '_valid.npy')\n",
    "        y_test = np.loadtxt(fp + data_name + '_valid.labels')\n",
    "        y_train = np.asanyarray((y_train + 1) // 2, dtype = 'i8')\n",
    "        y_test = np.asanyarray((y_test + 1) // 2, dtype = 'i8')\n",
    "        \n",
    "        \n",
    "    print(data_name.upper() + ' Data:')\n",
    "    print('Training data info: ')\n",
    "    print(X_train.shape[0], ' samples, ', X_train.shape[1], ' features.')\n",
    "    print(int(y_train.sum()), ' positve samples, ', int(X_train.shape[0] - y_train.sum()), ' negative samples')\n",
    "    print('-------------------------------')\n",
    "    print('Test data info: ')\n",
    "    print(X_test.shape[0], ' samples.')\n",
    "    print(int(y_test.sum()), ' positve samples, ', int(X_test.shape[0] - y_test.sum()), ' negative samples')\n",
    "    return X_train, y_train, X_test, y_test"
   ]
  },
  {
   "cell_type": "code",
   "execution_count": 4,
   "metadata": {
    "scrolled": true
   },
   "outputs": [
    {
     "name": "stdout",
     "output_type": "stream",
     "text": [
      "ARCENE Data:\n",
      "Training data info: \n",
      "100  samples,  10000  features.\n",
      "44  positve samples,  56  negative samples\n",
      "-------------------------------\n",
      "Test data info: \n",
      "100  samples.\n",
      "44  positve samples,  56  negative samples\n"
     ]
    }
   ],
   "source": [
    "X_train, y_train, X_test, y_test = load_data('arcene')"
   ]
  },
  {
   "cell_type": "code",
   "execution_count": 5,
   "metadata": {
    "collapsed": true
   },
   "outputs": [],
   "source": [
    "clf = LogisticRegression(C=0.0001, class_weight='balanced')"
   ]
  },
  {
   "cell_type": "code",
   "execution_count": 6,
   "metadata": {
    "collapsed": true
   },
   "outputs": [],
   "source": [
    "#clf = SVC(class_weight='balanced')"
   ]
  },
  {
   "cell_type": "code",
   "execution_count": 7,
   "metadata": {},
   "outputs": [
    {
     "name": "stdout",
     "output_type": "stream",
     "text": [
      "Logistic Regression on Full Feature Space\n",
      "-----------------------------------------\n",
      "BER:  0.167207792208\n",
      "F1:  0.809523809524\n"
     ]
    }
   ],
   "source": [
    "clf.fit(X_train, y_train)\n",
    "print('Logistic Regression on Full Feature Space')\n",
    "print('-----------------------------------------')\n",
    "error_metrics(y_test, clf.predict(X_test))"
   ]
  },
  {
   "cell_type": "code",
   "execution_count": 34,
   "metadata": {
    "collapsed": true
   },
   "outputs": [],
   "source": [
    "-"
   ]
  },
  {
   "cell_type": "code",
   "execution_count": 47,
   "metadata": {
    "collapsed": true,
    "scrolled": true
   },
   "outputs": [],
   "source": [
    "from tqdm import tqdm_notebook as tqdm\n",
    "\n",
    "def run_pso(swarm_size, num_iter, size_reg, clf, itr=1):\n",
    "    \n",
    "    print('Initializing the swarm....')\n",
    "    \n",
    "    swarm = []\n",
    "\n",
    "    for k in range(swarm_size):\n",
    "    \n",
    "        swarm.append(Particle(X_train.shape[1]))\n",
    "    \n",
    "    swarm[0].fit_clf(clf, size_reg, X_train, y_train)\n",
    "\n",
    "    g_best_loc = 0\n",
    "    g_best_pos = np.copy(swarm[0].p)\n",
    "    g_best_score = np.copy(swarm[0].ber) + size_reg * (np.copy(swarm[0].num_feats) / len(swarm[0].p))\n",
    "\n",
    "    for k in range(1,len(swarm)):\n",
    "    \n",
    "        swarm[k].fit_clf(clf, size_reg,  X_train, y_train)\n",
    "    \n",
    "        if g_best_score > swarm[k].ber + size_reg * (swarm[k].num_feats / len(swarm[k].p)):\n",
    "        \n",
    "            g_best_loc = k\n",
    "            g_best_pos = np.copy(swarm[k].p)\n",
    "            g_best_score = np.copy(swarm[k].ber) + size_reg * (np.copy(swarm[k].num_feats) / len(swarm[k].p))\n",
    "            \n",
    "    print('Iteration ', itr, ' Initial Best (BER, f1, num_feats, score): (', swarm[g_best_loc].ber,\n",
    "                  ', ', swarm[g_best_loc].f1, ', ', swarm[g_best_loc].num_feats,', ', g_best_score, ')')\n",
    "\n",
    "    for iteration in tqdm(range(num_iter)):\n",
    "    \n",
    "        for k in range(len(swarm)):\n",
    "        \n",
    "            update_velocity(swarm[k], g_best_pos)\n",
    "            update_position(swarm[k])\n",
    "            swarm[k].fit_clf(clf, size_reg, X_train, y_train)\n",
    "    \n",
    "        for k in range(len(swarm)):\n",
    "    \n",
    "            if g_best_score > swarm[k].ber + size_reg * (swarm[k].num_feats / len(swarm[k].p)):\n",
    "            \n",
    "                g_best_loc = k\n",
    "                g_best_pos = np.copy(swarm[k].p)\n",
    "                g_best_score = np.copy(swarm[k].ber) + size_reg * (np.copy(swarm[k].num_feats) / len(swarm[k].p))\n",
    "                #print(' Iteration ', itr, ' Current Best (BER, f1, num_feats, score): (', swarm[k].ber,\n",
    "                #  ', ', swarm[k].f1, ', ', swarm[k].num_feats,', ', g_best_score, ')')\n",
    "                \n",
    "        b_feat = int(min(len(swarm[0].p), 3 * swarm[g_best_loc].num_feats))\n",
    "        rand_ind = np.random.choice(np.arange(swarm_size, dtype='i8'), replace=False, size=15)\n",
    "        \n",
    "        for ind in rand_ind:\n",
    "            \n",
    "            if ind != g_best_loc:\n",
    "                \n",
    "                swarm[ind] = Particle(X_train.shape[1], b_feat)\n",
    "                swarm[ind].fit_clf(clf, size_reg, X_train, y_train)\n",
    "            \n",
    "    best_part = Particle(X_train.shape[-1])\n",
    "    best_part.p = g_best_pos\n",
    "    best_part.update_locs()\n",
    "    best_part.fit_clf(clf, size_reg, X_train, y_train)\n",
    "    print(' Final Best (BER, f1, num_feats): (', best_part.ber,\n",
    "                  ', ', best_part.f1, ', ', best_part.num_feats ,')')\n",
    "    return best_part"
   ]
  },
  {
   "cell_type": "code",
   "execution_count": 39,
   "metadata": {
    "scrolled": true
   },
   "outputs": [
    {
     "name": "stdout",
     "output_type": "stream",
     "text": [
      "ARCENE Data:\n",
      "Training data info: \n",
      "100  samples,  10000  features.\n",
      "44  positve samples,  56  negative samples\n",
      "-------------------------------\n",
      "Test data info: \n",
      "100  samples.\n",
      "44  positve samples,  56  negative samples\n",
      "-----------------------------------------\n",
      "Performance on Full Feature Space\n",
      "-----------------------------------------\n",
      "BER:  0.167207792208\n",
      "F1:  0.809523809524\n",
      "-----------------------------------------\n",
      "Initializing the swarm....\n",
      "Iteration  1  Initial Best (BER, f1, num_feats, score): ( 0.135551948052 ,  0.847058823529 ,  3526 ,  0.139077948052 )\n",
      " Iteration  1  Current Best (BER, f1, num_feats, score): ( 0.121753246753 ,  0.863636363636 ,  3319 ,  0.125072246753 )\n",
      " Iteration  1  Current Best (BER, f1, num_feats, score): ( 0.11525974026 ,  0.870588235294 ,  4806 ,  0.12006574026 )\n",
      " Iteration  1  Current Best (BER, f1, num_feats, score): ( 0.112824675325 ,  0.873563218391 ,  2564 ,  0.115388675325 )\n",
      " Iteration  1  Current Best (BER, f1, num_feats, score): ( 0.0949675324675 ,  0.894117647059 ,  2291 ,  0.0972585324675 )\n",
      " Iteration  1  Current Best (BER, f1, num_feats, score): ( 0.0949675324675 ,  0.894117647059 ,  1320 ,  0.0962875324675 )\n",
      " Iteration  1  Current Best (BER, f1, num_feats, score): ( 0.086038961039 ,  0.904761904762 ,  1411 ,  0.087449961039 )\n",
      " Iteration  1  Current Best (BER, f1, num_feats, score): ( 0.0746753246753 ,  0.917647058824 ,  1480 ,  0.0761553246753 )\n",
      " Iteration  1  Current Best (BER, f1, num_feats, score): ( 0.0746753246753 ,  0.917647058824 ,  1175 ,  0.0758503246753 )\n",
      " Iteration  1  Current Best (BER, f1, num_feats, score): ( 0.0746753246753 ,  0.917647058824 ,  720 ,  0.0753953246753 )\n",
      " Iteration  1  Current Best (BER, f1, num_feats, score): ( 0.0633116883117 ,  0.93023255814 ,  1335 ,  0.0646466883117 )\n",
      " Iteration  1  Current Best (BER, f1, num_feats, score): ( 0.0543831168831 ,  0.941176470588 ,  1139 ,  0.0555221168831 )\n",
      " Iteration  1  Current Best (BER, f1, num_feats, score): ( 0.0543831168831 ,  0.941176470588 ,  1040 ,  0.0554231168831 )\n",
      " Iteration  1  Current Best (BER, f1, num_feats, score): ( 0.0543831168831 ,  0.941176470588 ,  986 ,  0.0553691168831 )\n",
      " Iteration  1  Current Best (BER, f1, num_feats, score): ( 0.0543831168831 ,  0.941176470588 ,  856 ,  0.0552391168831 )\n",
      " Iteration  1  Current Best (BER, f1, num_feats, score): ( 0.0430194805195 ,  0.953488372093 ,  953 ,  0.0439724805195 )\n",
      " Iteration  1  Current Best (BER, f1, num_feats, score): ( 0.0430194805195 ,  0.953488372093 ,  890 ,  0.0439094805195 )\n",
      " Iteration  1  Current Best (BER, f1, num_feats, score): ( 0.0430194805195 ,  0.953488372093 ,  762 ,  0.0437814805195 )\n",
      " Iteration  1  Current Best (BER, f1, num_feats, score): ( 0.0316558441558 ,  0.965517241379 ,  861 ,  0.0325168441558 )\n",
      " Iteration  1  Current Best (BER, f1, num_feats, score): ( 0.0316558441558 ,  0.965517241379 ,  813 ,  0.0324688441558 )\n",
      " Iteration  1  Current Best (BER, f1, num_feats, score): ( 0.0316558441558 ,  0.965517241379 ,  810 ,  0.0324658441558 )\n",
      " Iteration  1  Current Best (BER, f1, num_feats, score): ( 0.0316558441558 ,  0.965517241379 ,  808 ,  0.0324638441558 )\n",
      " Iteration  1  Current Best (BER, f1, num_feats, score): ( 0.0227272727273 ,  0.976744186047 ,  735 ,  0.0234622727273 )\n",
      " Iteration  1  Current Best (BER, f1, num_feats, score): ( 0.0227272727273 ,  0.976744186047 ,  704 ,  0.0234312727273 )\n",
      " Iteration  1  Current Best (BER, f1, num_feats, score): ( 0.0227272727273 ,  0.976744186047 ,  682 ,  0.0234092727273 )\n",
      " Iteration  1  Current Best (BER, f1, num_feats, score): ( 0.0227272727273 ,  0.976744186047 ,  681 ,  0.0234082727273 )\n",
      " Iteration  1  Current Best (BER, f1, num_feats, score): ( 0.0227272727273 ,  0.976744186047 ,  680 ,  0.0234072727273 )\n",
      " Iteration  1  Current Best (BER, f1, num_feats, score): ( 0.0227272727273 ,  0.976744186047 ,  674 ,  0.0234012727273 )\n",
      " Iteration  1  Current Best (BER, f1, num_feats, score): ( 0.0227272727273 ,  0.976744186047 ,  612 ,  0.0233392727273 )\n",
      " Iteration  1  Current Best (BER, f1, num_feats, score): ( 0.0227272727273 ,  0.976744186047 ,  584 ,  0.0233112727273 )\n",
      " Iteration  1  Current Best (BER, f1, num_feats, score): ( 0.0227272727273 ,  0.976744186047 ,  553 ,  0.0232802727273 )\n",
      " Iteration  1  Current Best (BER, f1, num_feats, score): ( 0.0227272727273 ,  0.976744186047 ,  534 ,  0.0232612727273 )\n",
      " Iteration  1  Current Best (BER, f1, num_feats, score): ( 0.0227272727273 ,  0.976744186047 ,  532 ,  0.0232592727273 )\n",
      " Iteration  1  Current Best (BER, f1, num_feats, score): ( 0.0227272727273 ,  0.976744186047 ,  479 ,  0.0232062727273 )\n",
      " Iteration  1  Current Best (BER, f1, num_feats, score): ( 0.0202922077922 ,  0.977272727273 ,  451 ,  0.0207432077922 )\n",
      " Iteration  1  Current Best (BER, f1, num_feats, score): ( 0.0113636363636 ,  0.988505747126 ,  477 ,  0.0118406363636 )\n",
      " Iteration  1  Current Best (BER, f1, num_feats, score): ( 0.0113636363636 ,  0.988505747126 ,  470 ,  0.0118336363636 )\n",
      " Iteration  1  Current Best (BER, f1, num_feats, score): ( 0.0113636363636 ,  0.988505747126 ,  468 ,  0.0118316363636 )\n",
      " Iteration  1  Current Best (BER, f1, num_feats, score): ( 0.0113636363636 ,  0.988505747126 ,  464 ,  0.0118276363636 )\n",
      " Iteration  1  Current Best (BER, f1, num_feats, score): ( 0.0113636363636 ,  0.988505747126 ,  460 ,  0.0118236363636 )\n",
      " Iteration  1  Current Best (BER, f1, num_feats, score): ( 0.0113636363636 ,  0.988505747126 ,  458 ,  0.0118216363636 )\n",
      " Iteration  1  Current Best (BER, f1, num_feats, score): ( 0.0113636363636 ,  0.988505747126 ,  424 ,  0.0117876363636 )\n"
     ]
    },
    {
     "name": "stderr",
     "output_type": "stream",
     "text": [
      "/home/james/anaconda3/lib/python3.5/site-packages/sklearn/metrics/classification.py:1135: UndefinedMetricWarning: F-score is ill-defined and being set to 0.0 due to no predicted samples.\n",
      "  'precision', 'predicted', average, warn_for)\n"
     ]
    },
    {
     "name": "stdout",
     "output_type": "stream",
     "text": [
      " Iteration  1  Current Best (BER, f1, num_feats, score): ( 0.0113636363636 ,  0.988505747126 ,  418 ,  0.0117816363636 )\n",
      " Iteration  1  Current Best (BER, f1, num_feats, score): ( 0.0113636363636 ,  0.988505747126 ,  413 ,  0.0117766363636 )\n",
      " Iteration  1  Current Best (BER, f1, num_feats, score): ( 0.0113636363636 ,  0.988505747126 ,  403 ,  0.0117666363636 )\n",
      " Iteration  1  Current Best (BER, f1, num_feats, score): ( 0.0113636363636 ,  0.988505747126 ,  401 ,  0.0117646363636 )\n",
      " Iteration  1  Current Best (BER, f1, num_feats, score): ( 0.0113636363636 ,  0.988505747126 ,  398 ,  0.0117616363636 )\n",
      " Iteration  1  Current Best (BER, f1, num_feats, score): ( 0.0113636363636 ,  0.988505747126 ,  397 ,  0.0117606363636 )\n",
      " Iteration  1  Current Best (BER, f1, num_feats, score): ( 0.0113636363636 ,  0.988505747126 ,  394 ,  0.0117576363636 )\n",
      " Iteration  1  Current Best (BER, f1, num_feats, score): ( 0.0113636363636 ,  0.988505747126 ,  382 ,  0.0117456363636 )\n",
      " Iteration  1  Current Best (BER, f1, num_feats, score): ( 0.0113636363636 ,  0.988505747126 ,  373 ,  0.0117366363636 )\n",
      " Iteration  1  Current Best (BER, f1, num_feats, score): ( 0.0113636363636 ,  0.988505747126 ,  368 ,  0.0117316363636 )\n",
      " Iteration  1  Current Best (BER, f1, num_feats, score): ( 0.0113636363636 ,  0.988505747126 ,  367 ,  0.0117306363636 )\n",
      " Iteration  1  Current Best (BER, f1, num_feats, score): ( 0.0113636363636 ,  0.988505747126 ,  360 ,  0.0117236363636 )\n",
      " Iteration  1  Current Best (BER, f1, num_feats, score): ( 0.0113636363636 ,  0.988505747126 ,  359 ,  0.0117226363636 )\n",
      " Iteration  1  Current Best (BER, f1, num_feats, score): ( 0.0113636363636 ,  0.988505747126 ,  357 ,  0.0117206363636 )\n",
      " Iteration  1  Current Best (BER, f1, num_feats, score): ( 0.0113636363636 ,  0.988505747126 ,  356 ,  0.0117196363636 )\n",
      " Iteration  1  Current Best (BER, f1, num_feats, score): ( 0.0113636363636 ,  0.988505747126 ,  355 ,  0.0117186363636 )\n",
      " Iteration  1  Current Best (BER, f1, num_feats, score): ( 0.0113636363636 ,  0.988505747126 ,  354 ,  0.0117176363636 )\n",
      " Iteration  1  Current Best (BER, f1, num_feats, score): ( 0.0113636363636 ,  0.988505747126 ,  342 ,  0.0117056363636 )\n",
      " Iteration  1  Current Best (BER, f1, num_feats, score): ( 0.0113636363636 ,  0.988505747126 ,  341 ,  0.0117046363636 )\n",
      " Iteration  1  Current Best (BER, f1, num_feats, score): ( 0.0113636363636 ,  0.988505747126 ,  339 ,  0.0117026363636 )\n",
      " Iteration  1  Current Best (BER, f1, num_feats, score): ( 0.0113636363636 ,  0.988505747126 ,  338 ,  0.0117016363636 )\n",
      " Iteration  1  Current Best (BER, f1, num_feats, score): ( 0.0113636363636 ,  0.988505747126 ,  337 ,  0.0117006363636 )\n",
      "\n",
      "Initializing the swarm....\n",
      "Iteration  2  Initial Best (BER, f1, num_feats, score): ( 0.146915584416 ,  0.833333333333 ,  4724 ,  0.151639584416 )\n",
      " Iteration  2  Current Best (BER, f1, num_feats, score): ( 0.135551948052 ,  0.847058823529 ,  3908 ,  0.139459948052 )\n",
      " Iteration  2  Current Best (BER, f1, num_feats, score): ( 0.135551948052 ,  0.847058823529 ,  3258 ,  0.138809948052 )\n",
      " Iteration  2  Current Best (BER, f1, num_feats, score): ( 0.133116883117 ,  0.850574712644 ,  3166 ,  0.136282883117 )\n",
      " Iteration  2  Current Best (BER, f1, num_feats, score): ( 0.126623376623 ,  0.857142857143 ,  4375 ,  0.130998376623 )\n",
      " Iteration  2  Current Best (BER, f1, num_feats, score): ( 0.101461038961 ,  0.886363636364 ,  520 ,  0.101981038961 )\n",
      " Iteration  2  Current Best (BER, f1, num_feats, score): ( 0.101461038961 ,  0.886363636364 ,  475 ,  0.101936038961 )\n",
      " Iteration  2  Current Best (BER, f1, num_feats, score): ( 0.0900974025974 ,  0.898876404494 ,  591 ,  0.0906884025974 )\n",
      " Iteration  2  Current Best (BER, f1, num_feats, score): ( 0.0900974025974 ,  0.898876404494 ,  585 ,  0.0906824025974 )\n",
      " Iteration  2  Current Best (BER, f1, num_feats, score): ( 0.0900974025974 ,  0.898876404494 ,  579 ,  0.0906764025974 )\n",
      " Iteration  2  Current Best (BER, f1, num_feats, score): ( 0.0900974025974 ,  0.898876404494 ,  563 ,  0.0906604025974 )\n",
      " Iteration  2  Current Best (BER, f1, num_feats, score): ( 0.0787337662338 ,  0.911111111111 ,  717 ,  0.0794507662338 )\n",
      " Iteration  2  Current Best (BER, f1, num_feats, score): ( 0.0787337662338 ,  0.911111111111 ,  582 ,  0.0793157662338 )\n",
      " Iteration  2  Current Best (BER, f1, num_feats, score): ( 0.0787337662338 ,  0.911111111111 ,  566 ,  0.0792997662338 )\n",
      " Iteration  2  Current Best (BER, f1, num_feats, score): ( 0.0722402597403 ,  0.919540229885 ,  1071 ,  0.0733112597403 )\n",
      " Iteration  2  Current Best (BER, f1, num_feats, score): ( 0.0698051948052 ,  0.921348314607 ,  475 ,  0.0702801948052 )\n",
      " Iteration  2  Current Best (BER, f1, num_feats, score): ( 0.0673701298701 ,  0.923076923077 ,  590 ,  0.0679601298701 )\n",
      " Iteration  2  Current Best (BER, f1, num_feats, score): ( 0.0673701298701 ,  0.923076923077 ,  556 ,  0.0679261298701 )\n",
      " Iteration  2  Current Best (BER, f1, num_feats, score): ( 0.0633116883117 ,  0.93023255814 ,  1077 ,  0.0643886883117 )\n",
      " Iteration  2  Current Best (BER, f1, num_feats, score): ( 0.0633116883117 ,  0.93023255814 ,  447 ,  0.0637586883117 )\n",
      " Iteration  2  Current Best (BER, f1, num_feats, score): ( 0.0584415584416 ,  0.933333333333 ,  621 ,  0.0590625584416 )\n",
      " Iteration  2  Current Best (BER, f1, num_feats, score): ( 0.0560064935065 ,  0.934782608696 ,  613 ,  0.0566194935065 )\n",
      " Iteration  2  Current Best (BER, f1, num_feats, score): ( 0.0560064935065 ,  0.934782608696 ,  596 ,  0.0566024935065 )\n",
      " Iteration  2  Current Best (BER, f1, num_feats, score): ( 0.0519480519481 ,  0.942528735632 ,  683 ,  0.0526310519481 )\n",
      " Iteration  2  Current Best (BER, f1, num_feats, score): ( 0.049512987013 ,  0.943820224719 ,  642 ,  0.050154987013 )\n",
      " Iteration  2  Current Best (BER, f1, num_feats, score): ( 0.0316558441558 ,  0.965517241379 ,  423 ,  0.0320788441558 )\n",
      " Iteration  2  Current Best (BER, f1, num_feats, score): ( 0.0316558441558 ,  0.965517241379 ,  422 ,  0.0320778441558 )\n",
      " Iteration  2  Current Best (BER, f1, num_feats, score): ( 0.0316558441558 ,  0.965517241379 ,  408 ,  0.0320638441558 )\n",
      " Iteration  2  Current Best (BER, f1, num_feats, score): ( 0.0316558441558 ,  0.965517241379 ,  378 ,  0.0320338441558 )\n",
      " Iteration  2  Current Best (BER, f1, num_feats, score): ( 0.0316558441558 ,  0.965517241379 ,  375 ,  0.0320308441558 )\n",
      " Iteration  2  Current Best (BER, f1, num_feats, score): ( 0.0227272727273 ,  0.976744186047 ,  367 ,  0.0230942727273 )\n",
      " Iteration  2  Current Best (BER, f1, num_feats, score): ( 0.0227272727273 ,  0.976744186047 ,  358 ,  0.0230852727273 )\n",
      " Iteration  2  Current Best (BER, f1, num_feats, score): ( 0.0227272727273 ,  0.976744186047 ,  354 ,  0.0230812727273 )\n",
      " Iteration  2  Current Best (BER, f1, num_feats, score): ( 0.0227272727273 ,  0.976744186047 ,  345 ,  0.0230722727273 )\n",
      " Iteration  2  Current Best (BER, f1, num_feats, score): ( 0.0227272727273 ,  0.976744186047 ,  330 ,  0.0230572727273 )\n",
      " Iteration  2  Current Best (BER, f1, num_feats, score): ( 0.0227272727273 ,  0.976744186047 ,  326 ,  0.0230532727273 )\n",
      " Iteration  2  Current Best (BER, f1, num_feats, score): ( 0.0227272727273 ,  0.976744186047 ,  323 ,  0.0230502727273 )\n",
      " Iteration  2  Current Best (BER, f1, num_feats, score): ( 0.0227272727273 ,  0.976744186047 ,  321 ,  0.0230482727273 )\n",
      " Iteration  2  Current Best (BER, f1, num_feats, score): ( 0.0227272727273 ,  0.976744186047 ,  314 ,  0.0230412727273 )\n",
      " Iteration  2  Current Best (BER, f1, num_feats, score): ( 0.0227272727273 ,  0.976744186047 ,  312 ,  0.0230392727273 )\n",
      " Iteration  2  Current Best (BER, f1, num_feats, score): ( 0.0227272727273 ,  0.976744186047 ,  306 ,  0.0230332727273 )\n",
      " Iteration  2  Current Best (BER, f1, num_feats, score): ( 0.0227272727273 ,  0.976744186047 ,  304 ,  0.0230312727273 )\n",
      " Iteration  2  Current Best (BER, f1, num_feats, score): ( 0.0227272727273 ,  0.976744186047 ,  300 ,  0.0230272727273 )\n",
      " Iteration  2  Current Best (BER, f1, num_feats, score): ( 0.0227272727273 ,  0.976744186047 ,  279 ,  0.0230062727273 )\n",
      " Iteration  2  Current Best (BER, f1, num_feats, score): ( 0.0227272727273 ,  0.976744186047 ,  274 ,  0.0230012727273 )\n",
      " Iteration  2  Current Best (BER, f1, num_feats, score): ( 0.0227272727273 ,  0.976744186047 ,  264 ,  0.0229912727273 )\n"
     ]
    },
    {
     "name": "stdout",
     "output_type": "stream",
     "text": [
      " Iteration  2  Current Best (BER, f1, num_feats, score): ( 0.0227272727273 ,  0.976744186047 ,  260 ,  0.0229872727273 )\n",
      " Iteration  2  Current Best (BER, f1, num_feats, score): ( 0.0227272727273 ,  0.976744186047 ,  259 ,  0.0229862727273 )\n",
      " Iteration  2  Current Best (BER, f1, num_feats, score): ( 0.0227272727273 ,  0.976744186047 ,  257 ,  0.0229842727273 )\n",
      " Iteration  2  Current Best (BER, f1, num_feats, score): ( 0.0227272727273 ,  0.976744186047 ,  250 ,  0.0229772727273 )\n",
      " Iteration  2  Current Best (BER, f1, num_feats, score): ( 0.0227272727273 ,  0.976744186047 ,  248 ,  0.0229752727273 )\n",
      " Iteration  2  Current Best (BER, f1, num_feats, score): ( 0.0227272727273 ,  0.976744186047 ,  246 ,  0.0229732727273 )\n",
      " Iteration  2  Current Best (BER, f1, num_feats, score): ( 0.0227272727273 ,  0.976744186047 ,  245 ,  0.0229722727273 )\n",
      " Iteration  2  Current Best (BER, f1, num_feats, score): ( 0.0227272727273 ,  0.976744186047 ,  242 ,  0.0229692727273 )\n",
      " Iteration  2  Current Best (BER, f1, num_feats, score): ( 0.0227272727273 ,  0.976744186047 ,  235 ,  0.0229622727273 )\n",
      " Iteration  2  Current Best (BER, f1, num_feats, score): ( 0.0227272727273 ,  0.976744186047 ,  224 ,  0.0229512727273 )\n",
      " Iteration  2  Current Best (BER, f1, num_feats, score): ( 0.0227272727273 ,  0.976744186047 ,  223 ,  0.0229502727273 )\n",
      " Iteration  2  Current Best (BER, f1, num_feats, score): ( 0.0227272727273 ,  0.976744186047 ,  221 ,  0.0229482727273 )\n",
      " Iteration  2  Current Best (BER, f1, num_feats, score): ( 0.0227272727273 ,  0.976744186047 ,  217 ,  0.0229442727273 )\n",
      " Iteration  2  Current Best (BER, f1, num_feats, score): ( 0.0227272727273 ,  0.976744186047 ,  215 ,  0.0229422727273 )\n",
      " Iteration  2  Current Best (BER, f1, num_feats, score): ( 0.0227272727273 ,  0.976744186047 ,  214 ,  0.0229412727273 )\n",
      " Iteration  2  Current Best (BER, f1, num_feats, score): ( 0.0227272727273 ,  0.976744186047 ,  213 ,  0.0229402727273 )\n",
      "\n",
      "Initializing the swarm....\n",
      "Iteration  3  Initial Best (BER, f1, num_feats, score): ( 0.133116883117 ,  0.850574712644 ,  3317 ,  0.136433883117 )\n",
      " Iteration  3  Current Best (BER, f1, num_feats, score): ( 0.121753246753 ,  0.863636363636 ,  1883 ,  0.123636246753 )\n",
      " Iteration  3  Current Best (BER, f1, num_feats, score): ( 0.106331168831 ,  0.880952380952 ,  1996 ,  0.108327168831 )\n",
      " Iteration  3  Current Best (BER, f1, num_feats, score): ( 0.086038961039 ,  0.904761904762 ,  1035 ,  0.087073961039 )\n",
      " Iteration  3  Current Best (BER, f1, num_feats, score): ( 0.086038961039 ,  0.904761904762 ,  608 ,  0.086646961039 )\n",
      " Iteration  3  Current Best (BER, f1, num_feats, score): ( 0.0836038961039 ,  0.906976744186 ,  1502 ,  0.0851058961039 )\n",
      " Iteration  3  Current Best (BER, f1, num_feats, score): ( 0.0836038961039 ,  0.906976744186 ,  1261 ,  0.0848648961039 )\n",
      " Iteration  3  Current Best (BER, f1, num_feats, score): ( 0.0681818181818 ,  0.926829268293 ,  973 ,  0.0691548181818 )\n",
      " Iteration  3  Current Best (BER, f1, num_feats, score): ( 0.0681818181818 ,  0.926829268293 ,  964 ,  0.0691458181818 )\n",
      " Iteration  3  Current Best (BER, f1, num_feats, score): ( 0.0657467532468 ,  0.928571428571 ,  1287 ,  0.0670337532468 )\n",
      " Iteration  3  Current Best (BER, f1, num_feats, score): ( 0.0568181818182 ,  0.939759036145 ,  503 ,  0.0573211818182 )\n",
      " Iteration  3  Current Best (BER, f1, num_feats, score): ( 0.0543831168831 ,  0.941176470588 ,  940 ,  0.0553231168831 )\n",
      " Iteration  3  Current Best (BER, f1, num_feats, score): ( 0.0543831168831 ,  0.941176470588 ,  858 ,  0.0552411168831 )\n",
      " Iteration  3  Current Best (BER, f1, num_feats, score): ( 0.0543831168831 ,  0.941176470588 ,  764 ,  0.0551471168831 )\n",
      " Iteration  3  Current Best (BER, f1, num_feats, score): ( 0.0543831168831 ,  0.941176470588 ,  733 ,  0.0551161168831 )\n",
      " Iteration  3  Current Best (BER, f1, num_feats, score): ( 0.0454545454545 ,  0.952380952381 ,  960 ,  0.0464145454545 )\n",
      " Iteration  3  Current Best (BER, f1, num_feats, score): ( 0.0454545454545 ,  0.952380952381 ,  838 ,  0.0462925454545 )\n",
      " Iteration  3  Current Best (BER, f1, num_feats, score): ( 0.0454545454545 ,  0.952380952381 ,  837 ,  0.0462915454545 )\n",
      " Iteration  3  Current Best (BER, f1, num_feats, score): ( 0.0454545454545 ,  0.952380952381 ,  768 ,  0.0462225454545 )\n",
      " Iteration  3  Current Best (BER, f1, num_feats, score): ( 0.0430194805195 ,  0.953488372093 ,  1340 ,  0.0443594805195 )\n",
      " Iteration  3  Current Best (BER, f1, num_feats, score): ( 0.0430194805195 ,  0.953488372093 ,  1302 ,  0.0443214805195 )\n",
      " Iteration  3  Current Best (BER, f1, num_feats, score): ( 0.0430194805195 ,  0.953488372093 ,  1260 ,  0.0442794805195 )\n",
      " Iteration  3  Current Best (BER, f1, num_feats, score): ( 0.0430194805195 ,  0.953488372093 ,  1215 ,  0.0442344805195 )\n",
      " Iteration  3  Current Best (BER, f1, num_feats, score): ( 0.0340909090909 ,  0.964705882353 ,  1041 ,  0.0351319090909 )\n",
      " Iteration  3  Current Best (BER, f1, num_feats, score): ( 0.0340909090909 ,  0.964705882353 ,  1009 ,  0.0350999090909 )\n",
      " Iteration  3  Current Best (BER, f1, num_feats, score): ( 0.0340909090909 ,  0.964705882353 ,  989 ,  0.0350799090909 )\n",
      " Iteration  3  Current Best (BER, f1, num_feats, score): ( 0.0340909090909 ,  0.964705882353 ,  879 ,  0.0349699090909 )\n",
      " Iteration  3  Current Best (BER, f1, num_feats, score): ( 0.0227272727273 ,  0.976744186047 ,  1080 ,  0.0238072727273 )\n",
      " Iteration  3  Current Best (BER, f1, num_feats, score): ( 0.0227272727273 ,  0.976744186047 ,  1073 ,  0.0238002727273 )\n",
      " Iteration  3  Current Best (BER, f1, num_feats, score): ( 0.0227272727273 ,  0.976744186047 ,  1050 ,  0.0237772727273 )\n",
      " Iteration  3  Current Best (BER, f1, num_feats, score): ( 0.0227272727273 ,  0.976744186047 ,  1046 ,  0.0237732727273 )\n",
      " Iteration  3  Current Best (BER, f1, num_feats, score): ( 0.0227272727273 ,  0.976744186047 ,  1022 ,  0.0237492727273 )\n",
      " Iteration  3  Current Best (BER, f1, num_feats, score): ( 0.0227272727273 ,  0.976744186047 ,  1021 ,  0.0237482727273 )\n",
      " Iteration  3  Current Best (BER, f1, num_feats, score): ( 0.0227272727273 ,  0.976744186047 ,  1010 ,  0.0237372727273 )\n",
      " Iteration  3  Current Best (BER, f1, num_feats, score): ( 0.0227272727273 ,  0.976744186047 ,  1004 ,  0.0237312727273 )\n",
      " Iteration  3  Current Best (BER, f1, num_feats, score): ( 0.0227272727273 ,  0.976744186047 ,  995 ,  0.0237222727273 )\n",
      " Iteration  3  Current Best (BER, f1, num_feats, score): ( 0.0227272727273 ,  0.976744186047 ,  938 ,  0.0236652727273 )\n",
      " Iteration  3  Current Best (BER, f1, num_feats, score): ( 0.0227272727273 ,  0.976744186047 ,  899 ,  0.0236262727273 )\n",
      " Iteration  3  Current Best (BER, f1, num_feats, score): ( 0.0227272727273 ,  0.976744186047 ,  849 ,  0.0235762727273 )\n",
      " Iteration  3  Current Best (BER, f1, num_feats, score): ( 0.0227272727273 ,  0.976744186047 ,  842 ,  0.0235692727273 )\n",
      " Iteration  3  Current Best (BER, f1, num_feats, score): ( 0.0227272727273 ,  0.976744186047 ,  833 ,  0.0235602727273 )\n",
      " Iteration  3  Current Best (BER, f1, num_feats, score): ( 0.0227272727273 ,  0.976744186047 ,  828 ,  0.0235552727273 )\n",
      " Iteration  3  Current Best (BER, f1, num_feats, score): ( 0.0227272727273 ,  0.976744186047 ,  826 ,  0.0235532727273 )\n",
      " Iteration  3  Current Best (BER, f1, num_feats, score): ( 0.0227272727273 ,  0.976744186047 ,  819 ,  0.0235462727273 )\n",
      " Iteration  3  Current Best (BER, f1, num_feats, score): ( 0.0227272727273 ,  0.976744186047 ,  811 ,  0.0235382727273 )\n",
      " Iteration  3  Current Best (BER, f1, num_feats, score): ( 0.0227272727273 ,  0.976744186047 ,  808 ,  0.0235352727273 )\n",
      " Iteration  3  Current Best (BER, f1, num_feats, score): ( 0.0227272727273 ,  0.976744186047 ,  705 ,  0.0234322727273 )\n",
      " Iteration  3  Current Best (BER, f1, num_feats, score): ( 0.0227272727273 ,  0.976744186047 ,  654 ,  0.0233812727273 )\n",
      " Iteration  3  Current Best (BER, f1, num_feats, score): ( 0.0227272727273 ,  0.976744186047 ,  653 ,  0.0233802727273 )\n",
      " Iteration  3  Current Best (BER, f1, num_feats, score): ( 0.0227272727273 ,  0.976744186047 ,  652 ,  0.0233792727273 )\n",
      " Iteration  3  Current Best (BER, f1, num_feats, score): ( 0.0227272727273 ,  0.976744186047 ,  638 ,  0.0233652727273 )\n",
      " Iteration  3  Current Best (BER, f1, num_feats, score): ( 0.0227272727273 ,  0.976744186047 ,  636 ,  0.0233632727273 )\n"
     ]
    },
    {
     "name": "stdout",
     "output_type": "stream",
     "text": [
      " Iteration  3  Current Best (BER, f1, num_feats, score): ( 0.0227272727273 ,  0.976744186047 ,  615 ,  0.0233422727273 )\n",
      " Iteration  3  Current Best (BER, f1, num_feats, score): ( 0.0227272727273 ,  0.976744186047 ,  534 ,  0.0232612727273 )\n",
      " Iteration  3  Current Best (BER, f1, num_feats, score): ( 0.0227272727273 ,  0.976744186047 ,  530 ,  0.0232572727273 )\n",
      " Iteration  3  Current Best (BER, f1, num_feats, score): ( 0.0227272727273 ,  0.976744186047 ,  507 ,  0.0232342727273 )\n",
      " Iteration  3  Current Best (BER, f1, num_feats, score): ( 0.0227272727273 ,  0.976744186047 ,  469 ,  0.0231962727273 )\n",
      " Iteration  3  Current Best (BER, f1, num_feats, score): ( 0.0227272727273 ,  0.976744186047 ,  429 ,  0.0231562727273 )\n",
      " Iteration  3  Current Best (BER, f1, num_feats, score): ( 0.0227272727273 ,  0.976744186047 ,  428 ,  0.0231552727273 )\n",
      " Iteration  3  Current Best (BER, f1, num_feats, score): ( 0.0227272727273 ,  0.976744186047 ,  392 ,  0.0231192727273 )\n",
      " Iteration  3  Current Best (BER, f1, num_feats, score): ( 0.0227272727273 ,  0.976744186047 ,  387 ,  0.0231142727273 )\n",
      " Iteration  3  Current Best (BER, f1, num_feats, score): ( 0.0227272727273 ,  0.976744186047 ,  369 ,  0.0230962727273 )\n",
      " Iteration  3  Current Best (BER, f1, num_feats, score): ( 0.0227272727273 ,  0.976744186047 ,  366 ,  0.0230932727273 )\n",
      " Iteration  3  Current Best (BER, f1, num_feats, score): ( 0.0227272727273 ,  0.976744186047 ,  363 ,  0.0230902727273 )\n",
      " Iteration  3  Current Best (BER, f1, num_feats, score): ( 0.0227272727273 ,  0.976744186047 ,  360 ,  0.0230872727273 )\n",
      "\n"
     ]
    }
   ],
   "source": [
    "# Run Arcene Test\n",
    "\n",
    "X_train, y_train, X_test, y_test = load_data('arcene')\n",
    "clf.fit(X_train, y_train)\n",
    "print('-----------------------------------------')\n",
    "print('Performance on Full Feature Space')\n",
    "print('-----------------------------------------')\n",
    "error_metrics(y_test, clf.predict(X_test))\n",
    "print('-----------------------------------------')\n",
    "\n",
    "best_arcene = []\n",
    "\n",
    "for exp in range(3):\n",
    "    \n",
    "    best_arcene.append(run_pso(150, 100, 0.01, clf, exp+1))\n",
    "    \n",
    "arcene_ber = np.asanyarray([100*x.ber for x in best_arcene])\n",
    "arcene_f1 = np.asanyarray([100*x.f1 for x in best_arcene])\n",
    "arcene_num_feats = np.asanyarray([x.num_feats for x in best_arcene])"
   ]
  },
  {
   "cell_type": "code",
   "execution_count": 40,
   "metadata": {},
   "outputs": [
    {
     "data": {
      "image/png": "[encoded data removed]",
      "text/plain": [
       "<matplotlib.figure.Figure at 0x7f0537210e48>"
      ]
     },
     "metadata": {},
     "output_type": "display_data"
    }
   ],
   "source": [
    "fig, (ax1, ax2, ax3) = plt.subplots(nrows=3, )\n",
    "sns.swarmplot(arcene_f1, color='k', ax=ax1)\n",
    "sns.boxplot(arcene_f1, color='r', ax=ax1)\n",
    "ax1.set_xlabel('Arcene F1 Distributions: mean = ' + str(round(arcene_f1.mean(),2)) + '%')\n",
    "sns.swarmplot(arcene_ber, color='k', ax=ax2)\n",
    "sns.boxplot(arcene_ber, color='c', ax=ax2)\n",
    "ax2.set_xlabel('Arcene BER Distributions: mean = :' + str(round(arcene_ber.mean(),2)) + '%')\n",
    "sns.swarmplot(arcene_num_feats, color='k', ax=ax3)\n",
    "sns.boxplot(arcene_num_feats, color='g', ax=ax3)\n",
    "ax3.set_xlabel('Arcene Number of Features Distributions: mean = ' + str(arcene_num_feats.mean()) )\n",
    "plt.tight_layout()"
   ]
  },
  {
   "cell_type": "code",
   "execution_count": 42,
   "metadata": {},
   "outputs": [
    {
     "name": "stdout",
     "output_type": "stream",
     "text": [
      "DEXTER Data:\n",
      "Training data info: \n",
      "300  samples,  20000  features.\n",
      "150  positve samples,  150  negative samples\n",
      "-------------------------------\n",
      "Test data info: \n",
      "300  samples.\n",
      "150  positve samples,  150  negative samples\n",
      "-----------------------------------------\n",
      "Performance on Full Feature Space\n",
      "-----------------------------------------\n",
      "BER:  0.0733333333333\n",
      "F1:  0.929936305732\n",
      "-----------------------------------------\n",
      "Initializing the swarm....\n",
      "Iteration  1  Initial Best (BER, f1, num_feats, score): ( 0.0566666666667 ,  0.943894389439 ,  13286 ,  0.0633096666667 )\n",
      "\n",
      " Iteration  1  Current Best (BER, f1, num_feats, score): ( 0.0566666666667 ,  0.945337620579 ,  10901 ,  0.0621171666667 )\n",
      " Iteration  1  Current Best (BER, f1, num_feats, score): ( 0.0533333333333 ,  0.947712418301 ,  12043 ,  0.0593548333333 )\n",
      " Iteration  1  Current Best (BER, f1, num_feats, score): ( 0.05 ,  0.951140065147 ,  12869 ,  0.0564345 )\n",
      " Iteration  1  Current Best (BER, f1, num_feats, score): ( 0.05 ,  0.951140065147 ,  11996 ,  0.055998 )\n",
      " Iteration  1  Current Best (BER, f1, num_feats, score): ( 0.05 ,  0.951140065147 ,  11454 ,  0.055727 )\n",
      " Iteration  1  Current Best (BER, f1, num_feats, score): ( 0.05 ,  0.950166112957 ,  9196 ,  0.054598 )\n",
      " Iteration  1  Current Best (BER, f1, num_feats, score): ( 0.0433333333333 ,  0.957654723127 ,  10855 ,  0.0487608333333 )\n",
      " Iteration  1  Current Best (BER, f1, num_feats, score): ( 0.04 ,  0.960784313725 ,  13318 ,  0.046659 )\n",
      " Iteration  1  Current Best (BER, f1, num_feats, score): ( 0.0366666666667 ,  0.96393442623 ,  13188 ,  0.0432606666667 )\n",
      " Iteration  1  Current Best (BER, f1, num_feats, score): ( 0.0366666666667 ,  0.963696369637 ,  13161 ,  0.0432471666667 )\n",
      " Iteration  1  Current Best (BER, f1, num_feats, score): ( 0.0333333333333 ,  0.967105263158 ,  13008 ,  0.0398373333333 )\n",
      " Iteration  1  Current Best (BER, f1, num_feats, score): ( 0.0333333333333 ,  0.967105263158 ,  12977 ,  0.0398218333333 )\n",
      " Iteration  1  Current Best (BER, f1, num_feats, score): ( 0.0333333333333 ,  0.967105263158 ,  12969 ,  0.0398178333333 )\n",
      " Iteration  1  Current Best (BER, f1, num_feats, score): ( 0.0333333333333 ,  0.967105263158 ,  12967 ,  0.0398168333333 )\n",
      " Iteration  1  Current Best (BER, f1, num_feats, score): ( 0.0333333333333 ,  0.967105263158 ,  12704 ,  0.0396853333333 )\n",
      " Iteration  1  Current Best (BER, f1, num_feats, score): ( 0.0333333333333 ,  0.967105263158 ,  12669 ,  0.0396678333333 )\n",
      " Iteration  1  Current Best (BER, f1, num_feats, score): ( 0.0333333333333 ,  0.967105263158 ,  12668 ,  0.0396673333333 )\n",
      " Iteration  1  Current Best (BER, f1, num_feats, score): ( 0.0333333333333 ,  0.967105263158 ,  12664 ,  0.0396653333333 )\n",
      " Iteration  1  Current Best (BER, f1, num_feats, score): ( 0.0333333333333 ,  0.967105263158 ,  12663 ,  0.0396648333333 )\n",
      " Iteration  1  Current Best (BER, f1, num_feats, score): ( 0.0333333333333 ,  0.967105263158 ,  12661 ,  0.0396638333333 )\n",
      " Iteration  1  Current Best (BER, f1, num_feats, score): ( 0.0333333333333 ,  0.967105263158 ,  12658 ,  0.0396623333333 )\n",
      " Iteration  1  Current Best (BER, f1, num_feats, score): ( 0.0333333333333 ,  0.967105263158 ,  12656 ,  0.0396613333333 )\n",
      " Iteration  1  Current Best (BER, f1, num_feats, score): ( 0.0333333333333 ,  0.967105263158 ,  12588 ,  0.0396273333333 )\n",
      " Iteration  1  Current Best (BER, f1, num_feats, score): ( 0.0333333333333 ,  0.967105263158 ,  12585 ,  0.0396258333333 )\n",
      " Iteration  1  Current Best (BER, f1, num_feats, score): ( 0.0333333333333 ,  0.967105263158 ,  12575 ,  0.0396208333333 )\n",
      " Iteration  1  Current Best (BER, f1, num_feats, score): ( 0.0333333333333 ,  0.967105263158 ,  12565 ,  0.0396158333333 )\n",
      " Iteration  1  Current Best (BER, f1, num_feats, score): ( 0.0333333333333 ,  0.967105263158 ,  12469 ,  0.0395678333333 )\n",
      " Iteration  1  Current Best (BER, f1, num_feats, score): ( 0.0333333333333 ,  0.967105263158 ,  12416 ,  0.0395413333333 )\n",
      " Iteration  1  Current Best (BER, f1, num_feats, score): ( 0.0333333333333 ,  0.967105263158 ,  12409 ,  0.0395378333333 )\n",
      " Iteration  1  Current Best (BER, f1, num_feats, score): ( 0.0333333333333 ,  0.967105263158 ,  12406 ,  0.0395363333333 )\n",
      " Iteration  1  Current Best (BER, f1, num_feats, score): ( 0.0333333333333 ,  0.967105263158 ,  12388 ,  0.0395273333333 )\n",
      " Iteration  1  Current Best (BER, f1, num_feats, score): ( 0.0333333333333 ,  0.967105263158 ,  12379 ,  0.0395228333333 )\n",
      " Iteration  1  Current Best (BER, f1, num_feats, score): ( 0.0333333333333 ,  0.967105263158 ,  12336 ,  0.0395013333333 )\n",
      " Iteration  1  Current Best (BER, f1, num_feats, score): ( 0.03 ,  0.970297029703 ,  15011 ,  0.0375055 )\n",
      " Iteration  1  Current Best (BER, f1, num_feats, score): ( 0.03 ,  0.970297029703 ,  14811 ,  0.0374055 )\n",
      " Iteration  1  Current Best (BER, f1, num_feats, score): ( 0.03 ,  0.970297029703 ,  14810 ,  0.037405 )\n",
      " Iteration  1  Current Best (BER, f1, num_feats, score): ( 0.03 ,  0.970297029703 ,  14778 ,  0.037389 )\n",
      " Iteration  1  Current Best (BER, f1, num_feats, score): ( 0.03 ,  0.970297029703 ,  14766 ,  0.037383 )\n",
      " Iteration  1  Current Best (BER, f1, num_feats, score): ( 0.03 ,  0.970297029703 ,  14739 ,  0.0373695 )\n",
      " Iteration  1  Current Best (BER, f1, num_feats, score): ( 0.03 ,  0.970297029703 ,  14723 ,  0.0373615 )\n",
      " Iteration  1  Current Best (BER, f1, num_feats, score): ( 0.03 ,  0.970297029703 ,  14673 ,  0.0373365 )\n",
      " Iteration  1  Current Best (BER, f1, num_feats, score): ( 0.03 ,  0.970297029703 ,  14671 ,  0.0373355 )\n",
      " Iteration  1  Current Best (BER, f1, num_feats, score): ( 0.03 ,  0.970297029703 ,  14092 ,  0.037046 )\n",
      " Iteration  1  Current Best (BER, f1, num_feats, score): ( 0.03 ,  0.970297029703 ,  14071 ,  0.0370355 )\n",
      " Iteration  1  Current Best (BER, f1, num_feats, score): ( 0.03 ,  0.970297029703 ,  13951 ,  0.0369755 )\n",
      " Iteration  1  Current Best (BER, f1, num_feats, score): ( 0.03 ,  0.970297029703 ,  13719 ,  0.0368595 )\n",
      " Iteration  1  Current Best (BER, f1, num_feats, score): ( 0.0266666666667 ,  0.973684210526 ,  14196 ,  0.0337646666667 )\n",
      " Iteration  1  Current Best (BER, f1, num_feats, score): ( 0.0266666666667 ,  0.973684210526 ,  14190 ,  0.0337616666667 )\n",
      " Iteration  1  Current Best (BER, f1, num_feats, score): ( 0.0266666666667 ,  0.973684210526 ,  14189 ,  0.0337611666667 )\n",
      " Iteration  1  Current Best (BER, f1, num_feats, score): ( 0.0266666666667 ,  0.973684210526 ,  14139 ,  0.0337361666667 )\n",
      " Iteration  1  Current Best (BER, f1, num_feats, score): ( 0.0266666666667 ,  0.973684210526 ,  13928 ,  0.0336306666667 )\n",
      " Iteration  1  Current Best (BER, f1, num_feats, score): ( 0.0266666666667 ,  0.973684210526 ,  13926 ,  0.0336296666667 )\n",
      " Iteration  1  Current Best (BER, f1, num_feats, score): ( 0.0266666666667 ,  0.973684210526 ,  13912 ,  0.0336226666667 )\n",
      " Iteration  1  Current Best (BER, f1, num_feats, score): ( 0.0266666666667 ,  0.973684210526 ,  13890 ,  0.0336116666667 )\n",
      " Iteration  1  Current Best (BER, f1, num_feats, score): ( 0.0266666666667 ,  0.973684210526 ,  13873 ,  0.0336031666667 )\n",
      " Iteration  1  Current Best (BER, f1, num_feats, score): ( 0.0266666666667 ,  0.973684210526 ,  13717 ,  0.0335251666667 )\n",
      " Iteration  1  Current Best (BER, f1, num_feats, score): ( 0.0266666666667 ,  0.973684210526 ,  13658 ,  0.0334956666667 )\n",
      " Iteration  1  Current Best (BER, f1, num_feats, score): ( 0.0266666666667 ,  0.973684210526 ,  13639 ,  0.0334861666667 )\n",
      " Iteration  1  Current Best (BER, f1, num_feats, score): ( 0.0266666666667 ,  0.973684210526 ,  13599 ,  0.0334661666667 )\n",
      " Iteration  1  Current Best (BER, f1, num_feats, score): ( 0.0266666666667 ,  0.973684210526 ,  13596 ,  0.0334646666667 )\n",
      " Iteration  1  Current Best (BER, f1, num_feats, score): ( 0.0266666666667 ,  0.973684210526 ,  13583 ,  0.0334581666667 )\n",
      " Iteration  1  Current Best (BER, f1, num_feats, score): ( 0.0266666666667 ,  0.973684210526 ,  13572 ,  0.0334526666667 )\n",
      " Iteration  1  Current Best (BER, f1, num_feats, score): ( 0.0266666666667 ,  0.973684210526 ,  13552 ,  0.0334426666667 )\n",
      " Iteration  1  Current Best (BER, f1, num_feats, score): ( 0.0266666666667 ,  0.973684210526 ,  13488 ,  0.0334106666667 )\n",
      " Iteration  1  Current Best (BER, f1, num_feats, score): ( 0.0266666666667 ,  0.973684210526 ,  13478 ,  0.0334056666667 )\n"
     ]
    },
    {
     "name": "stdout",
     "output_type": "stream",
     "text": [
      "\n",
      "Initializing the swarm....\n",
      "Iteration  2  Initial Best (BER, f1, num_feats, score): ( 0.0566666666667 ,  0.944262295082 ,  10247 ,  0.0617901666667 )\n",
      " Iteration  2  Current Best (BER, f1, num_feats, score): ( 0.0533333333333 ,  0.948387096774 ,  12476 ,  0.0595713333333 )\n",
      " Iteration  2  Current Best (BER, f1, num_feats, score): ( 0.05 ,  0.950166112957 ,  12317 ,  0.0561585 )\n",
      " Iteration  2  Current Best (BER, f1, num_feats, score): ( 0.05 ,  0.950166112957 ,  11592 ,  0.055796 )\n",
      " Iteration  2  Current Best (BER, f1, num_feats, score): ( 0.0466666666667 ,  0.953947368421 ,  14309 ,  0.0538211666667 )\n",
      " Iteration  2  Current Best (BER, f1, num_feats, score): ( 0.0433333333333 ,  0.95737704918 ,  15794 ,  0.0512303333333 )\n",
      " Iteration  2  Current Best (BER, f1, num_feats, score): ( 0.0366666666667 ,  0.962962962963 ,  11997 ,  0.0426651666667 )\n",
      " Iteration  2  Current Best (BER, f1, num_feats, score): ( 0.0333333333333 ,  0.966666666667 ,  12737 ,  0.0397018333333 )\n",
      " Iteration  2  Current Best (BER, f1, num_feats, score): ( 0.03 ,  0.970099667774 ,  12957 ,  0.0364785 )\n",
      " Iteration  2  Current Best (BER, f1, num_feats, score): ( 0.03 ,  0.970099667774 ,  12744 ,  0.036372 )\n",
      " Iteration  2  Current Best (BER, f1, num_feats, score): ( 0.03 ,  0.970099667774 ,  12667 ,  0.0363335 )\n",
      " Iteration  2  Current Best (BER, f1, num_feats, score): ( 0.03 ,  0.970099667774 ,  12630 ,  0.036315 )\n",
      " Iteration  2  Current Best (BER, f1, num_feats, score): ( 0.03 ,  0.970099667774 ,  12549 ,  0.0362745 )\n",
      " Iteration  2  Current Best (BER, f1, num_feats, score): ( 0.03 ,  0.969899665552 ,  12417 ,  0.0362085 )\n",
      " Iteration  2  Current Best (BER, f1, num_feats, score): ( 0.0266666666667 ,  0.973333333333 ,  12112 ,  0.0327226666667 )\n",
      " Iteration  2  Current Best (BER, f1, num_feats, score): ( 0.0266666666667 ,  0.973333333333 ,  12108 ,  0.0327206666667 )\n",
      " Iteration  2  Current Best (BER, f1, num_feats, score): ( 0.0266666666667 ,  0.973333333333 ,  12086 ,  0.0327096666667 )\n",
      " Iteration  2  Current Best (BER, f1, num_feats, score): ( 0.0266666666667 ,  0.973333333333 ,  12060 ,  0.0326966666667 )\n",
      " Iteration  2  Current Best (BER, f1, num_feats, score): ( 0.0266666666667 ,  0.973333333333 ,  12008 ,  0.0326706666667 )\n",
      " Iteration  2  Current Best (BER, f1, num_feats, score): ( 0.0266666666667 ,  0.973333333333 ,  11816 ,  0.0325746666667 )\n",
      " Iteration  2  Current Best (BER, f1, num_feats, score): ( 0.0266666666667 ,  0.973333333333 ,  11771 ,  0.0325521666667 )\n",
      " Iteration  2  Current Best (BER, f1, num_feats, score): ( 0.0266666666667 ,  0.973333333333 ,  11425 ,  0.0323791666667 )\n",
      " Iteration  2  Current Best (BER, f1, num_feats, score): ( 0.0266666666667 ,  0.973333333333 ,  11407 ,  0.0323701666667 )\n",
      " Iteration  2  Current Best (BER, f1, num_feats, score): ( 0.0266666666667 ,  0.973333333333 ,  11406 ,  0.0323696666667 )\n",
      " Iteration  2  Current Best (BER, f1, num_feats, score): ( 0.0266666666667 ,  0.973333333333 ,  11371 ,  0.0323521666667 )\n",
      " Iteration  2  Current Best (BER, f1, num_feats, score): ( 0.0266666666667 ,  0.973333333333 ,  11347 ,  0.0323401666667 )\n",
      " Iteration  2  Current Best (BER, f1, num_feats, score): ( 0.0266666666667 ,  0.973333333333 ,  11324 ,  0.0323286666667 )\n",
      " Iteration  2  Current Best (BER, f1, num_feats, score): ( 0.0266666666667 ,  0.973333333333 ,  11255 ,  0.0322941666667 )\n",
      " Iteration  2  Current Best (BER, f1, num_feats, score): ( 0.0266666666667 ,  0.973333333333 ,  11201 ,  0.0322671666667 )\n",
      " Iteration  2  Current Best (BER, f1, num_feats, score): ( 0.0233333333333 ,  0.976588628763 ,  11237 ,  0.0289518333333 )\n",
      " Iteration  2  Current Best (BER, f1, num_feats, score): ( 0.0233333333333 ,  0.976588628763 ,  11206 ,  0.0289363333333 )\n",
      " Iteration  2  Current Best (BER, f1, num_feats, score): ( 0.0233333333333 ,  0.976588628763 ,  11152 ,  0.0289093333333 )\n",
      " Iteration  2  Current Best (BER, f1, num_feats, score): ( 0.0233333333333 ,  0.976588628763 ,  11083 ,  0.0288748333333 )\n",
      " Iteration  2  Current Best (BER, f1, num_feats, score): ( 0.0233333333333 ,  0.976588628763 ,  10857 ,  0.0287618333333 )\n",
      " Iteration  2  Current Best (BER, f1, num_feats, score): ( 0.0233333333333 ,  0.976744186047 ,  10821 ,  0.0287438333333 )\n",
      " Iteration  2  Current Best (BER, f1, num_feats, score): ( 0.0233333333333 ,  0.976588628763 ,  10685 ,  0.0286758333333 )\n",
      " Iteration  2  Current Best (BER, f1, num_feats, score): ( 0.0233333333333 ,  0.976588628763 ,  10655 ,  0.0286608333333 )\n",
      " Iteration  2  Current Best (BER, f1, num_feats, score): ( 0.0233333333333 ,  0.976588628763 ,  10627 ,  0.0286468333333 )\n",
      " Iteration  2  Current Best (BER, f1, num_feats, score): ( 0.02 ,  0.98 ,  10638 ,  0.025319 )\n",
      " Iteration  2  Current Best (BER, f1, num_feats, score): ( 0.02 ,  0.98 ,  10426 ,  0.025213 )\n",
      " Iteration  2  Current Best (BER, f1, num_feats, score): ( 0.02 ,  0.98 ,  10391 ,  0.0251955 )\n",
      " Iteration  2  Current Best (BER, f1, num_feats, score): ( 0.02 ,  0.98 ,  9765 ,  0.0248825 )\n",
      " Iteration  2  Current Best (BER, f1, num_feats, score): ( 0.02 ,  0.98 ,  9678 ,  0.024839 )\n",
      " Iteration  2  Current Best (BER, f1, num_feats, score): ( 0.02 ,  0.98 ,  9559 ,  0.0247795 )\n",
      " Iteration  2  Current Best (BER, f1, num_feats, score): ( 0.02 ,  0.98 ,  9544 ,  0.024772 )\n",
      " Iteration  2  Current Best (BER, f1, num_feats, score): ( 0.02 ,  0.98 ,  8978 ,  0.024489 )\n",
      " Iteration  2  Current Best (BER, f1, num_feats, score): ( 0.02 ,  0.98 ,  8888 ,  0.024444 )\n",
      " Iteration  2  Current Best (BER, f1, num_feats, score): ( 0.02 ,  0.98 ,  8863 ,  0.0244315 )\n",
      " Iteration  2  Current Best (BER, f1, num_feats, score): ( 0.02 ,  0.98 ,  8539 ,  0.0242695 )\n",
      " Iteration  2  Current Best (BER, f1, num_feats, score): ( 0.02 ,  0.98 ,  8310 ,  0.024155 )\n",
      " Iteration  2  Current Best (BER, f1, num_feats, score): ( 0.02 ,  0.98 ,  8289 ,  0.0241445 )\n",
      " Iteration  2  Current Best (BER, f1, num_feats, score): ( 0.02 ,  0.98 ,  8287 ,  0.0241435 )\n",
      " Iteration  2  Current Best (BER, f1, num_feats, score): ( 0.02 ,  0.98 ,  8100 ,  0.02405 )\n",
      " Iteration  2  Current Best (BER, f1, num_feats, score): ( 0.02 ,  0.98 ,  8064 ,  0.024032 )\n",
      " Iteration  2  Current Best (BER, f1, num_feats, score): ( 0.02 ,  0.98 ,  8041 ,  0.0240205 )\n",
      " Iteration  2  Current Best (BER, f1, num_feats, score): ( 0.02 ,  0.98 ,  8023 ,  0.0240115 )\n",
      " Iteration  2  Current Best (BER, f1, num_feats, score): ( 0.02 ,  0.98 ,  8005 ,  0.0240025 )\n",
      " Iteration  2  Current Best (BER, f1, num_feats, score): ( 0.02 ,  0.98 ,  7976 ,  0.023988 )\n",
      " Iteration  2  Current Best (BER, f1, num_feats, score): ( 0.02 ,  0.98 ,  7935 ,  0.0239675 )\n",
      " Iteration  2  Current Best (BER, f1, num_feats, score): ( 0.02 ,  0.98 ,  7875 ,  0.0239375 )\n",
      " Iteration  2  Current Best (BER, f1, num_feats, score): ( 0.02 ,  0.98 ,  7848 ,  0.023924 )\n",
      " Iteration  2  Current Best (BER, f1, num_feats, score): ( 0.02 ,  0.98 ,  7787 ,  0.0238935 )\n",
      "\n",
      "Initializing the swarm....\n",
      "Iteration  3  Initial Best (BER, f1, num_feats, score): ( 0.0566666666667 ,  0.945337620579 ,  17357 ,  0.0653451666667 )\n",
      " Iteration  3  Current Best (BER, f1, num_feats, score): ( 0.0566666666667 ,  0.944625407166 ,  12499 ,  0.0629161666667 )\n",
      " Iteration  3  Current Best (BER, f1, num_feats, score): ( 0.0533333333333 ,  0.947368421053 ,  9364 ,  0.0580153333333 )\n",
      " Iteration  3  Current Best (BER, f1, num_feats, score): ( 0.0466666666667 ,  0.954248366013 ,  13269 ,  0.0533011666667 )\n",
      " Iteration  3  Current Best (BER, f1, num_feats, score): ( 0.0466666666667 ,  0.954248366013 ,  12557 ,  0.0529451666667 )\n",
      " Iteration  3  Current Best (BER, f1, num_feats, score): ( 0.0433333333333 ,  0.95737704918 ,  13089 ,  0.0498778333333 )\n",
      " Iteration  3  Current Best (BER, f1, num_feats, score): ( 0.0433333333333 ,  0.95737704918 ,  12951 ,  0.0498088333333 )\n",
      " Iteration  3  Current Best (BER, f1, num_feats, score): ( 0.0433333333333 ,  0.95737704918 ,  12939 ,  0.0498028333333 )\n",
      " Iteration  3  Current Best (BER, f1, num_feats, score): ( 0.0433333333333 ,  0.95737704918 ,  12911 ,  0.0497888333333 )\n",
      " Iteration  3  Current Best (BER, f1, num_feats, score): ( 0.0433333333333 ,  0.95737704918 ,  12776 ,  0.0497213333333 )\n",
      " Iteration  3  Current Best (BER, f1, num_feats, score): ( 0.0433333333333 ,  0.95737704918 ,  12580 ,  0.0496233333333 )\n"
     ]
    },
    {
     "name": "stdout",
     "output_type": "stream",
     "text": [
      " Iteration  3  Current Best (BER, f1, num_feats, score): ( 0.0433333333333 ,  0.95737704918 ,  12539 ,  0.0496028333333 )\n",
      " Iteration  3  Current Best (BER, f1, num_feats, score): ( 0.0433333333333 ,  0.95737704918 ,  12504 ,  0.0495853333333 )\n",
      " Iteration  3  Current Best (BER, f1, num_feats, score): ( 0.04 ,  0.960526315789 ,  13058 ,  0.046529 )\n",
      " Iteration  3  Current Best (BER, f1, num_feats, score): ( 0.04 ,  0.960526315789 ,  13026 ,  0.046513 )\n",
      " Iteration  3  Current Best (BER, f1, num_feats, score): ( 0.04 ,  0.960526315789 ,  13015 ,  0.0465075 )\n",
      " Iteration  3  Current Best (BER, f1, num_feats, score): ( 0.04 ,  0.960526315789 ,  12897 ,  0.0464485 )\n",
      " Iteration  3  Current Best (BER, f1, num_feats, score): ( 0.04 ,  0.960526315789 ,  12751 ,  0.0463755 )\n",
      " Iteration  3  Current Best (BER, f1, num_feats, score): ( 0.04 ,  0.960526315789 ,  12709 ,  0.0463545 )\n",
      " Iteration  3  Current Best (BER, f1, num_feats, score): ( 0.04 ,  0.960526315789 ,  12645 ,  0.0463225 )\n",
      " Iteration  3  Current Best (BER, f1, num_feats, score): ( 0.04 ,  0.960526315789 ,  12643 ,  0.0463215 )\n",
      " Iteration  3  Current Best (BER, f1, num_feats, score): ( 0.04 ,  0.960526315789 ,  12428 ,  0.046214 )\n",
      " Iteration  3  Current Best (BER, f1, num_feats, score): ( 0.04 ,  0.960526315789 ,  12341 ,  0.0461705 )\n",
      " Iteration  3  Current Best (BER, f1, num_feats, score): ( 0.04 ,  0.960526315789 ,  12256 ,  0.046128 )\n",
      " Iteration  3  Current Best (BER, f1, num_feats, score): ( 0.04 ,  0.960526315789 ,  12147 ,  0.0460735 )\n",
      " Iteration  3  Current Best (BER, f1, num_feats, score): ( 0.04 ,  0.960526315789 ,  12118 ,  0.046059 )\n",
      " Iteration  3  Current Best (BER, f1, num_feats, score): ( 0.04 ,  0.960526315789 ,  12114 ,  0.046057 )\n",
      " Iteration  3  Current Best (BER, f1, num_feats, score): ( 0.04 ,  0.960526315789 ,  12101 ,  0.0460505 )\n",
      " Iteration  3  Current Best (BER, f1, num_feats, score): ( 0.04 ,  0.960526315789 ,  12100 ,  0.04605 )\n",
      " Iteration  3  Current Best (BER, f1, num_feats, score): ( 0.04 ,  0.960526315789 ,  12093 ,  0.0460465 )\n",
      " Iteration  3  Current Best (BER, f1, num_feats, score): ( 0.04 ,  0.960526315789 ,  11918 ,  0.045959 )\n",
      " Iteration  3  Current Best (BER, f1, num_feats, score): ( 0.04 ,  0.960526315789 ,  11897 ,  0.0459485 )\n",
      " Iteration  3  Current Best (BER, f1, num_feats, score): ( 0.04 ,  0.960526315789 ,  11827 ,  0.0459135 )\n",
      " Iteration  3  Current Best (BER, f1, num_feats, score): ( 0.04 ,  0.960526315789 ,  11812 ,  0.045906 )\n",
      " Iteration  3  Current Best (BER, f1, num_feats, score): ( 0.04 ,  0.960526315789 ,  11811 ,  0.0459055 )\n",
      " Iteration  3  Current Best (BER, f1, num_feats, score): ( 0.04 ,  0.960526315789 ,  11696 ,  0.045848 )\n",
      " Iteration  3  Current Best (BER, f1, num_feats, score): ( 0.04 ,  0.960526315789 ,  10396 ,  0.045198 )\n",
      " Iteration  3  Current Best (BER, f1, num_feats, score): ( 0.0366666666667 ,  0.96393442623 ,  10906 ,  0.0421196666667 )\n",
      " Iteration  3  Current Best (BER, f1, num_feats, score): ( 0.0366666666667 ,  0.96393442623 ,  10747 ,  0.0420401666667 )\n",
      " Iteration  3  Current Best (BER, f1, num_feats, score): ( 0.0366666666667 ,  0.96393442623 ,  10387 ,  0.0418601666667 )\n",
      " Iteration  3  Current Best (BER, f1, num_feats, score): ( 0.0366666666667 ,  0.96393442623 ,  10257 ,  0.0417951666667 )\n",
      " Iteration  3  Current Best (BER, f1, num_feats, score): ( 0.0366666666667 ,  0.96393442623 ,  10131 ,  0.0417321666667 )\n",
      " Iteration  3  Current Best (BER, f1, num_feats, score): ( 0.0366666666667 ,  0.96393442623 ,  10107 ,  0.0417201666667 )\n",
      " Iteration  3  Current Best (BER, f1, num_feats, score): ( 0.0366666666667 ,  0.963696369637 ,  9348 ,  0.0413406666667 )\n",
      " Iteration  3  Current Best (BER, f1, num_feats, score): ( 0.0333333333333 ,  0.967105263158 ,  9892 ,  0.0382793333333 )\n",
      " Iteration  3  Current Best (BER, f1, num_feats, score): ( 0.0333333333333 ,  0.967105263158 ,  9869 ,  0.0382678333333 )\n",
      " Iteration  3  Current Best (BER, f1, num_feats, score): ( 0.0333333333333 ,  0.967105263158 ,  9730 ,  0.0381983333333 )\n",
      " Iteration  3  Current Best (BER, f1, num_feats, score): ( 0.0333333333333 ,  0.967105263158 ,  9519 ,  0.0380928333333 )\n",
      " Iteration  3  Current Best (BER, f1, num_feats, score): ( 0.0333333333333 ,  0.967105263158 ,  9514 ,  0.0380903333333 )\n",
      " Iteration  3  Current Best (BER, f1, num_feats, score): ( 0.0333333333333 ,  0.966887417219 ,  9014 ,  0.0378403333333 )\n",
      " Iteration  3  Current Best (BER, f1, num_feats, score): ( 0.03 ,  0.970297029703 ,  9193 ,  0.0345965 )\n",
      " Iteration  3  Current Best (BER, f1, num_feats, score): ( 0.03 ,  0.970297029703 ,  9137 ,  0.0345685 )\n",
      " Iteration  3  Current Best (BER, f1, num_feats, score): ( 0.03 ,  0.970297029703 ,  9058 ,  0.034529 )\n",
      " Iteration  3  Current Best (BER, f1, num_feats, score): ( 0.03 ,  0.970297029703 ,  9056 ,  0.034528 )\n",
      " Iteration  3  Current Best (BER, f1, num_feats, score): ( 0.03 ,  0.970297029703 ,  9020 ,  0.03451 )\n",
      " Iteration  3  Current Best (BER, f1, num_feats, score): ( 0.03 ,  0.970297029703 ,  8839 ,  0.0344195 )\n",
      " Iteration  3  Current Best (BER, f1, num_feats, score): ( 0.03 ,  0.970297029703 ,  8824 ,  0.034412 )\n",
      " Iteration  3  Current Best (BER, f1, num_feats, score): ( 0.03 ,  0.970297029703 ,  8818 ,  0.034409 )\n",
      " Iteration  3  Current Best (BER, f1, num_feats, score): ( 0.03 ,  0.970297029703 ,  8675 ,  0.0343375 )\n",
      " Iteration  3  Current Best (BER, f1, num_feats, score): ( 0.03 ,  0.970297029703 ,  8670 ,  0.034335 )\n",
      " Iteration  3  Current Best (BER, f1, num_feats, score): ( 0.03 ,  0.970297029703 ,  8431 ,  0.0342155 )\n",
      " Iteration  3  Current Best (BER, f1, num_feats, score): ( 0.03 ,  0.970297029703 ,  8428 ,  0.034214 )\n",
      " Iteration  3  Current Best (BER, f1, num_feats, score): ( 0.03 ,  0.970297029703 ,  8427 ,  0.0342135 )\n",
      " Iteration  3  Current Best (BER, f1, num_feats, score): ( 0.03 ,  0.970297029703 ,  8378 ,  0.034189 )\n",
      " Iteration  3  Current Best (BER, f1, num_feats, score): ( 0.03 ,  0.970297029703 ,  8361 ,  0.0341805 )\n",
      "\n"
     ]
    }
   ],
   "source": [
    "# Run Dexter Test\n",
    "\n",
    "X_train, y_train, X_test, y_test = load_data('dexter')\n",
    "clf.fit(X_train, y_train)\n",
    "print('-----------------------------------------')\n",
    "print('Performance on Full Feature Space')\n",
    "print('-----------------------------------------')\n",
    "error_metrics(y_test, clf.predict(X_test))\n",
    "print('-----------------------------------------')\n",
    "\n",
    "best_dex = []\n",
    "\n",
    "for exp in range(3):\n",
    "    \n",
    "    best_dex.append(run_pso(150, 100, 0.01, clf, exp+1))\n",
    "    \n",
    "dex_ber = np.asanyarray([100*x.ber for x in best_dex])\n",
    "dex_f1 = np.asanyarray([100*x.f1 for x in best_dex])\n",
    "dex_num_feats = np.asanyarray([x.num_feats for x in best_dex])\n"
   ]
  },
  {
   "cell_type": "code",
   "execution_count": 43,
   "metadata": {},
   "outputs": [
    {
     "data": {
      "image/png": "[encoded data removed]",
      "text/plain": [
       "<matplotlib.figure.Figure at 0x7f05370c84a8>"
      ]
     },
     "metadata": {},
     "output_type": "display_data"
    }
   ],
   "source": [
    "fig, (ax1, ax2, ax3) = plt.subplots(nrows=3, )\n",
    "sns.swarmplot(dex_f1, color='k', ax=ax1)\n",
    "sns.boxplot(dex_f1, color='r', ax=ax1)\n",
    "ax1.set_xlabel('Dexter F1 Distributions: mean = ' + str(round(dex_f1.mean(),2)) + '%')\n",
    "sns.swarmplot(dex_ber, color='k', ax=ax2)\n",
    "sns.boxplot(dex_ber, color='c', ax=ax2)\n",
    "ax2.set_xlabel('Dexter BER Distributions: mean = :' + str(round(dex_ber.mean(),2)) + '%')\n",
    "sns.swarmplot(dex_num_feats, color='k', ax=ax3)\n",
    "sns.boxplot(dex_num_feats, color='g', ax=ax3)\n",
    "ax3.set_xlabel('Dexter Number of Features Distributions: mean = ' + str(dex_num_feats.mean()) )\n",
    "plt.tight_layout()"
   ]
  },
  {
   "cell_type": "code",
   "execution_count": null,
   "metadata": {
    "scrolled": true
   },
   "outputs": [],
   "source": [
    "# Run Gisette Test\n",
    "\n",
    "X_train, y_train, X_test, y_test = load_data('gisette')\n",
    "clf.fit(X_train, y_train)\n",
    "print('-----------------------------------------')\n",
    "print('Performance on Full Feature Space')\n",
    "print('-----------------------------------------')\n",
    "error_metrics(y_test, clf.predict(X_test))\n",
    "print('-----------------------------------------')\n",
    "\n",
    "best_gst = []\n",
    "\n",
    "for exp in range(3):\n",
    "    \n",
    "    best_gst.append(run_pso(150, 100, 0.01, clf, exp+1))\n",
    "    \n",
    "gst_ber = np.asanyarray([100*x.ber for x in best_gst])\n",
    "gst_f1 = np.asanyarray([100*x.f1 for x in best_gst])\n",
    "gst_num_feats = np.asanyarray([x.num_feats for x in best_gst])"
   ]
  },
  {
   "cell_type": "code",
   "execution_count": null,
   "metadata": {},
   "outputs": [],
   "source": [
    "fig, (ax1, ax2, ax3) = plt.subplots(nrows=3, )\n",
    "sns.swarmplot(gst_f1, color='k', ax=ax1)\n",
    "sns.boxplot(gst_f1, color='r', ax=ax1)\n",
    "ax1.set_xlabel('Gisette F1 Distributions: mean = ' + str(round(gst_f1.mean(),2)) + '%')\n",
    "sns.swarmplot(gst_ber, color='k', ax=ax2)\n",
    "sns.boxplot(gst_ber, color='c', ax=ax2)\n",
    "ax2.set_xlabel('Gisette BER Distributions: mean = :' + str(round(gst_ber.mean(),2)) + '%')\n",
    "sns.swarmplot(gst_num_feats, color='k', ax=ax3)\n",
    "sns.boxplot(gst_num_feats, color='g', ax=ax3)\n",
    "ax3.set_xlabel('Gisette Number of Features Distributions: mean = ' + str(gst_num_feats.mean()) )\n",
    "plt.tight_layout()"
   ]
  },
  {
   "cell_type": "code",
   "execution_count": 44,
   "metadata": {
    "scrolled": true
   },
   "outputs": [
    {
     "name": "stdout",
     "output_type": "stream",
     "text": [
      "DOROTHEA Data:\n",
      "Training data info: \n",
      "800  samples,  100000  features.\n",
      "78  positve samples,  722  negative samples\n",
      "-------------------------------\n",
      "Test data info: \n",
      "350  samples.\n",
      "34  positve samples,  316  negative samples\n",
      "-----------------------------------------\n",
      "Performance on Full Feature Space\n",
      "-----------------------------------------\n",
      "BER:  0.138216679077\n",
      "F1:  0.712328767123\n",
      "-----------------------------------------\n",
      "Initializing the swarm....\n",
      "Iteration  1  Initial Best (BER, f1, num_feats, score): ( 0.102010424423 ,  0.716049382716 ,  71853 ,  0.109195724423 )\n",
      " Iteration  1  Current Best (BER, f1, num_feats, score): ( 0.101545048399 ,  0.659340659341 ,  48602 ,  0.106405248399 )\n",
      " Iteration  1  Current Best (BER, f1, num_feats, score): ( 0.0952159344751 ,  0.689655172414 ,  46999 ,  0.0999158344751 )\n",
      " Iteration  1  Current Best (BER, f1, num_feats, score): ( 0.0952159344751 ,  0.689655172414 ,  43563 ,  0.0995722344751 )\n",
      " Iteration  1  Current Best (BER, f1, num_feats, score): ( 0.0895383469844 ,  0.615384615385 ,  25877 ,  0.0921260469844 )\n",
      " Iteration  1  Current Best (BER, f1, num_feats, score): ( 0.0847915115413 ,  0.633663366337 ,  27061 ,  0.0874976115413 )\n",
      " Iteration  1  Current Best (BER, f1, num_feats, score): ( 0.0820923306031 ,  0.696629213483 ,  50136 ,  0.0871059306031 )\n",
      " Iteration  1  Current Best (BER, f1, num_feats, score): ( 0.0752978406552 ,  0.673684210526 ,  38245 ,  0.0791223406552 )\n",
      " Iteration  1  Current Best (BER, f1, num_feats, score): ( 0.0737155621742 ,  0.68085106383 ,  31780 ,  0.0768935621742 )\n",
      " Iteration  1  Current Best (BER, f1, num_feats, score): ( 0.0705510052122 ,  0.695652173913 ,  40877 ,  0.0746387052122 )\n",
      " Iteration  1  Current Best (BER, f1, num_feats, score): ( 0.0658041697692 ,  0.719101123596 ,  41656 ,  0.0699697697692 )\n",
      " Iteration  1  Current Best (BER, f1, num_feats, score): ( 0.0642218912882 ,  0.727272727273 ,  44050 ,  0.0686268912882 )\n",
      " Iteration  1  Current Best (BER, f1, num_feats, score): ( 0.0642218912882 ,  0.727272727273 ,  37154 ,  0.0679372912882 )\n",
      " Iteration  1  Current Best (BER, f1, num_feats, score): ( 0.0626396128071 ,  0.735632183908 ,  45030 ,  0.0671426128071 )\n",
      " Iteration  1  Current Best (BER, f1, num_feats, score): ( 0.0610573343261 ,  0.744186046512 ,  47251 ,  0.0657824343261 )\n",
      " Iteration  1  Current Best (BER, f1, num_feats, score): ( 0.0578927773641 ,  0.761904761905 ,  51003 ,  0.0629930773641 )\n",
      " Iteration  1  Current Best (BER, f1, num_feats, score): ( 0.0578927773641 ,  0.761904761905 ,  49619 ,  0.0628546773641 )\n",
      " Iteration  1  Current Best (BER, f1, num_feats, score): ( 0.0578927773641 ,  0.761904761905 ,  49155 ,  0.0628082773641 )\n",
      " Iteration  1  Current Best (BER, f1, num_feats, score): ( 0.0578927773641 ,  0.761904761905 ,  48768 ,  0.0627695773641 )\n",
      " Iteration  1  Current Best (BER, f1, num_feats, score): ( 0.0578927773641 ,  0.761904761905 ,  48523 ,  0.0627450773641 )\n",
      " Iteration  1  Current Best (BER, f1, num_feats, score): ( 0.0578927773641 ,  0.761904761905 ,  48345 ,  0.0627272773641 )\n",
      " Iteration  1  Current Best (BER, f1, num_feats, score): ( 0.0578927773641 ,  0.761904761905 ,  48133 ,  0.0627060773641 )\n",
      " Iteration  1  Current Best (BER, f1, num_feats, score): ( 0.0578927773641 ,  0.761904761905 ,  47899 ,  0.0626826773641 )\n",
      " Iteration  1  Current Best (BER, f1, num_feats, score): ( 0.0578927773641 ,  0.761904761905 ,  45654 ,  0.0624581773641 )\n",
      " Iteration  1  Current Best (BER, f1, num_feats, score): ( 0.0578927773641 ,  0.761904761905 ,  45653 ,  0.0624580773641 )\n",
      " Iteration  1  Current Best (BER, f1, num_feats, score): ( 0.0578927773641 ,  0.761904761905 ,  44666 ,  0.0623593773641 )\n",
      " Iteration  1  Current Best (BER, f1, num_feats, score): ( 0.0578927773641 ,  0.761904761905 ,  44185 ,  0.0623112773641 )\n",
      " Iteration  1  Current Best (BER, f1, num_feats, score): ( 0.0563104988831 ,  0.771084337349 ,  45090 ,  0.0608194988831 )\n",
      " Iteration  1  Current Best (BER, f1, num_feats, score): ( 0.0563104988831 ,  0.771084337349 ,  43673 ,  0.0606777988831 )\n",
      " Iteration  1  Current Best (BER, f1, num_feats, score): ( 0.0563104988831 ,  0.771084337349 ,  43599 ,  0.0606703988831 )\n",
      " Iteration  1  Current Best (BER, f1, num_feats, score): ( 0.0563104988831 ,  0.771084337349 ,  43481 ,  0.0606585988831 )\n",
      " Iteration  1  Current Best (BER, f1, num_feats, score): ( 0.0563104988831 ,  0.771084337349 ,  42935 ,  0.0606039988831 )\n",
      " Iteration  1  Current Best (BER, f1, num_feats, score): ( 0.0563104988831 ,  0.771084337349 ,  42932 ,  0.0606036988831 )\n",
      " Iteration  1  Current Best (BER, f1, num_feats, score): ( 0.0563104988831 ,  0.771084337349 ,  42927 ,  0.0606031988831 )\n",
      " Iteration  1  Current Best (BER, f1, num_feats, score): ( 0.0563104988831 ,  0.771084337349 ,  42178 ,  0.0605282988831 )\n",
      " Iteration  1  Current Best (BER, f1, num_feats, score): ( 0.0563104988831 ,  0.771084337349 ,  41270 ,  0.0604374988831 )\n",
      " Iteration  1  Current Best (BER, f1, num_feats, score): ( 0.0563104988831 ,  0.771084337349 ,  40389 ,  0.0603493988831 )\n",
      " Iteration  1  Current Best (BER, f1, num_feats, score): ( 0.0563104988831 ,  0.771084337349 ,  40346 ,  0.0603450988831 )\n",
      " Iteration  1  Current Best (BER, f1, num_feats, score): ( 0.0563104988831 ,  0.771084337349 ,  40338 ,  0.0603442988831 )\n",
      " Iteration  1  Current Best (BER, f1, num_feats, score): ( 0.0563104988831 ,  0.771084337349 ,  39451 ,  0.0602555988831 )\n",
      " Iteration  1  Current Best (BER, f1, num_feats, score): ( 0.0563104988831 ,  0.771084337349 ,  38882 ,  0.0601986988831 )\n",
      " Iteration  1  Current Best (BER, f1, num_feats, score): ( 0.0563104988831 ,  0.771084337349 ,  38552 ,  0.0601656988831 )\n",
      " Iteration  1  Current Best (BER, f1, num_feats, score): ( 0.0563104988831 ,  0.771084337349 ,  38497 ,  0.0601601988831 )\n",
      " Iteration  1  Current Best (BER, f1, num_feats, score): ( 0.0563104988831 ,  0.771084337349 ,  38197 ,  0.0601301988831 )\n",
      " Iteration  1  Current Best (BER, f1, num_feats, score): ( 0.0563104988831 ,  0.771084337349 ,  38042 ,  0.0601146988831 )\n",
      " Iteration  1  Current Best (BER, f1, num_feats, score): ( 0.0563104988831 ,  0.771084337349 ,  37863 ,  0.0600967988831 )\n",
      " Iteration  1  Current Best (BER, f1, num_feats, score): ( 0.0563104988831 ,  0.771084337349 ,  36250 ,  0.0599354988831 )\n",
      " Iteration  1  Current Best (BER, f1, num_feats, score): ( 0.0547282204021 ,  0.780487804878 ,  37218 ,  0.0584500204021 )\n",
      " Iteration  1  Current Best (BER, f1, num_feats, score): ( 0.0547282204021 ,  0.780487804878 ,  37195 ,  0.0584477204021 )\n",
      " Iteration  1  Current Best (BER, f1, num_feats, score): ( 0.0547282204021 ,  0.780487804878 ,  37076 ,  0.0584358204021 )\n",
      " Iteration  1  Current Best (BER, f1, num_feats, score): ( 0.0547282204021 ,  0.780487804878 ,  36998 ,  0.0584280204021 )\n",
      " Iteration  1  Current Best (BER, f1, num_feats, score): ( 0.0547282204021 ,  0.780487804878 ,  36819 ,  0.0584101204021 )\n",
      " Iteration  1  Current Best (BER, f1, num_feats, score): ( 0.0547282204021 ,  0.780487804878 ,  36726 ,  0.0584008204021 )\n",
      " Iteration  1  Current Best (BER, f1, num_feats, score): ( 0.0547282204021 ,  0.780487804878 ,  36704 ,  0.0583986204021 )\n",
      " Iteration  1  Current Best (BER, f1, num_feats, score): ( 0.0547282204021 ,  0.780487804878 ,  34006 ,  0.0581288204021 )\n",
      " Iteration  1  Current Best (BER, f1, num_feats, score): ( 0.0547282204021 ,  0.780487804878 ,  33921 ,  0.0581203204021 )\n",
      " Iteration  1  Current Best (BER, f1, num_feats, score): ( 0.0547282204021 ,  0.780487804878 ,  33916 ,  0.0581198204021 )\n",
      " Iteration  1  Current Best (BER, f1, num_feats, score): ( 0.0547282204021 ,  0.780487804878 ,  33894 ,  0.0581176204021 )\n",
      " Iteration  1  Current Best (BER, f1, num_feats, score): ( 0.0547282204021 ,  0.780487804878 ,  33890 ,  0.0581172204021 )\n",
      " Iteration  1  Current Best (BER, f1, num_feats, score): ( 0.0547282204021 ,  0.780487804878 ,  33879 ,  0.0581161204021 )\n",
      " Iteration  1  Current Best (BER, f1, num_feats, score): ( 0.0547282204021 ,  0.780487804878 ,  33836 ,  0.0581118204021 )\n",
      " Iteration  1  Current Best (BER, f1, num_feats, score): ( 0.0547282204021 ,  0.780487804878 ,  33333 ,  0.0580615204021 )\n",
      " Iteration  1  Current Best (BER, f1, num_feats, score): ( 0.0547282204021 ,  0.780487804878 ,  33331 ,  0.0580613204021 )\n",
      " Iteration  1  Current Best (BER, f1, num_feats, score): ( 0.0547282204021 ,  0.780487804878 ,  33326 ,  0.0580608204021 )\n",
      " Iteration  1  Current Best (BER, f1, num_feats, score): ( 0.0547282204021 ,  0.780487804878 ,  33318 ,  0.0580600204021 )\n"
     ]
    },
    {
     "name": "stdout",
     "output_type": "stream",
     "text": [
      " Iteration  1  Current Best (BER, f1, num_feats, score): ( 0.0547282204021 ,  0.780487804878 ,  33317 ,  0.0580599204021 )\n",
      "\n",
      "Initializing the swarm....\n",
      "Iteration  2  Initial Best (BER, f1, num_feats, score): ( 0.0983804914371 ,  0.674157303371 ,  50893 ,  0.103469791437 )\n",
      " Iteration  2  Current Best (BER, f1, num_feats, score): ( 0.0994973938943 ,  0.62 ,  34207 ,  0.102918093894 )\n",
      " Iteration  2  Current Best (BER, f1, num_feats, score): ( 0.0967982129561 ,  0.681818181818 ,  57629 ,  0.102561112956 )\n",
      " Iteration  2  Current Best (BER, f1, num_feats, score): ( 0.0979151154133 ,  0.626262626263 ,  40667 ,  0.101981815413 )\n",
      " Iteration  2  Current Best (BER, f1, num_feats, score): ( 0.0915860014892 ,  0.652631578947 ,  41906 ,  0.0957766014892 )\n",
      " Iteration  2  Current Best (BER, f1, num_feats, score): ( 0.0900037230082 ,  0.659574468085 ,  42655 ,  0.0942692230082 )\n",
      " Iteration  2  Current Best (BER, f1, num_feats, score): ( 0.0852568875652 ,  0.681318681319 ,  41472 ,  0.0894040875652 )\n",
      " Iteration  2  Current Best (BER, f1, num_feats, score): ( 0.0820923306031 ,  0.696629213483 ,  55613 ,  0.0876536306031 )\n",
      " Iteration  2  Current Best (BER, f1, num_feats, score): ( 0.0784623976173 ,  0.659793814433 ,  35725 ,  0.0820348976173 )\n",
      " Iteration  2  Current Best (BER, f1, num_feats, score): ( 0.0705510052122 ,  0.695652173913 ,  52015 ,  0.0757525052122 )\n",
      " Iteration  2  Current Best (BER, f1, num_feats, score): ( 0.0689687267312 ,  0.703296703297 ,  49920 ,  0.0739607267312 )\n",
      " Iteration  2  Current Best (BER, f1, num_feats, score): ( 0.0673864482502 ,  0.711111111111 ,  49813 ,  0.0723677482502 )\n",
      " Iteration  2  Current Best (BER, f1, num_feats, score): ( 0.0574274013403 ,  0.702127659574 ,  34659 ,  0.0608933013403 )\n",
      " Iteration  2  Current Best (BER, f1, num_feats, score): ( 0.0574274013403 ,  0.702127659574 ,  34556 ,  0.0608830013403 )\n",
      " Iteration  2  Current Best (BER, f1, num_feats, score): ( 0.0526805658972 ,  0.725274725275 ,  36484 ,  0.0563289658972 )\n",
      " Iteration  2  Current Best (BER, f1, num_feats, score): ( 0.0526805658972 ,  0.725274725275 ,  36258 ,  0.0563063658972 )\n",
      " Iteration  2  Current Best (BER, f1, num_feats, score): ( 0.0526805658972 ,  0.725274725275 ,  36140 ,  0.0562945658972 )\n",
      " Iteration  2  Current Best (BER, f1, num_feats, score): ( 0.0526805658972 ,  0.725274725275 ,  36087 ,  0.0562892658972 )\n",
      " Iteration  2  Current Best (BER, f1, num_feats, score): ( 0.0526805658972 ,  0.725274725275 ,  36073 ,  0.0562878658972 )\n",
      " Iteration  2  Current Best (BER, f1, num_feats, score): ( 0.0526805658972 ,  0.725274725275 ,  36047 ,  0.0562852658972 )\n",
      " Iteration  2  Current Best (BER, f1, num_feats, score): ( 0.0526805658972 ,  0.725274725275 ,  35937 ,  0.0562742658972 )\n",
      " Iteration  2  Current Best (BER, f1, num_feats, score): ( 0.0526805658972 ,  0.725274725275 ,  35845 ,  0.0562650658972 )\n",
      " Iteration  2  Current Best (BER, f1, num_feats, score): ( 0.0526805658972 ,  0.725274725275 ,  35716 ,  0.0562521658972 )\n",
      " Iteration  2  Current Best (BER, f1, num_feats, score): ( 0.0526805658972 ,  0.725274725275 ,  35709 ,  0.0562514658972 )\n",
      " Iteration  2  Current Best (BER, f1, num_feats, score): ( 0.0526805658972 ,  0.725274725275 ,  35687 ,  0.0562492658972 )\n",
      " Iteration  2  Current Best (BER, f1, num_feats, score): ( 0.0526805658972 ,  0.725274725275 ,  35654 ,  0.0562459658972 )\n",
      " Iteration  2  Current Best (BER, f1, num_feats, score): ( 0.0526805658972 ,  0.725274725275 ,  35621 ,  0.0562426658972 )\n",
      " Iteration  2  Current Best (BER, f1, num_feats, score): ( 0.0526805658972 ,  0.725274725275 ,  35480 ,  0.0562285658972 )\n",
      " Iteration  2  Current Best (BER, f1, num_feats, score): ( 0.0526805658972 ,  0.725274725275 ,  34809 ,  0.0561614658972 )\n",
      " Iteration  2  Current Best (BER, f1, num_feats, score): ( 0.0526805658972 ,  0.725274725275 ,  32036 ,  0.0558841658972 )\n",
      " Iteration  2  Current Best (BER, f1, num_feats, score): ( 0.0510982874162 ,  0.733333333333 ,  35055 ,  0.0546037874162 )\n",
      " Iteration  2  Current Best (BER, f1, num_feats, score): ( 0.0510982874162 ,  0.733333333333 ,  34094 ,  0.0545076874162 )\n",
      " Iteration  2  Current Best (BER, f1, num_feats, score): ( 0.0510982874162 ,  0.733333333333 ,  32673 ,  0.0543655874162 )\n",
      " Iteration  2  Current Best (BER, f1, num_feats, score): ( 0.0510982874162 ,  0.733333333333 ,  31226 ,  0.0542208874162 )\n",
      " Iteration  2  Current Best (BER, f1, num_feats, score): ( 0.0510982874162 ,  0.733333333333 ,  31225 ,  0.0542207874162 )\n",
      " Iteration  2  Current Best (BER, f1, num_feats, score): ( 0.0510982874162 ,  0.733333333333 ,  31219 ,  0.0542201874162 )\n",
      " Iteration  2  Current Best (BER, f1, num_feats, score): ( 0.0510982874162 ,  0.733333333333 ,  31137 ,  0.0542119874162 )\n",
      " Iteration  2  Current Best (BER, f1, num_feats, score): ( 0.0510982874162 ,  0.733333333333 ,  30555 ,  0.0541537874162 )\n",
      " Iteration  2  Current Best (BER, f1, num_feats, score): ( 0.0495160089352 ,  0.741573033708 ,  32875 ,  0.0528035089352 )\n",
      " Iteration  2  Current Best (BER, f1, num_feats, score): ( 0.0495160089352 ,  0.741573033708 ,  32435 ,  0.0527595089352 )\n",
      " Iteration  2  Current Best (BER, f1, num_feats, score): ( 0.0495160089352 ,  0.741573033708 ,  32430 ,  0.0527590089352 )\n",
      " Iteration  2  Current Best (BER, f1, num_feats, score): ( 0.0495160089352 ,  0.741573033708 ,  32421 ,  0.0527581089352 )\n",
      " Iteration  2  Current Best (BER, f1, num_feats, score): ( 0.0495160089352 ,  0.741573033708 ,  32402 ,  0.0527562089352 )\n",
      " Iteration  2  Current Best (BER, f1, num_feats, score): ( 0.0495160089352 ,  0.741573033708 ,  32306 ,  0.0527466089352 )\n",
      " Iteration  2  Current Best (BER, f1, num_feats, score): ( 0.0495160089352 ,  0.741573033708 ,  32066 ,  0.0527226089352 )\n",
      " Iteration  2  Current Best (BER, f1, num_feats, score): ( 0.0495160089352 ,  0.741573033708 ,  31996 ,  0.0527156089352 )\n",
      " Iteration  2  Current Best (BER, f1, num_feats, score): ( 0.0495160089352 ,  0.741573033708 ,  31976 ,  0.0527136089352 )\n",
      " Iteration  2  Current Best (BER, f1, num_feats, score): ( 0.0495160089352 ,  0.741573033708 ,  31966 ,  0.0527126089352 )\n",
      " Iteration  2  Current Best (BER, f1, num_feats, score): ( 0.0495160089352 ,  0.741573033708 ,  31921 ,  0.0527081089352 )\n",
      " Iteration  2  Current Best (BER, f1, num_feats, score): ( 0.0495160089352 ,  0.741573033708 ,  31860 ,  0.0527020089352 )\n",
      " Iteration  2  Current Best (BER, f1, num_feats, score): ( 0.0495160089352 ,  0.741573033708 ,  31814 ,  0.0526974089352 )\n",
      " Iteration  2  Current Best (BER, f1, num_feats, score): ( 0.0495160089352 ,  0.741573033708 ,  31645 ,  0.0526805089352 )\n",
      " Iteration  2  Current Best (BER, f1, num_feats, score): ( 0.0495160089352 ,  0.741573033708 ,  31401 ,  0.0526561089352 )\n",
      " Iteration  2  Current Best (BER, f1, num_feats, score): ( 0.0495160089352 ,  0.741573033708 ,  30969 ,  0.0526129089352 )\n",
      " Iteration  2  Current Best (BER, f1, num_feats, score): ( 0.0495160089352 ,  0.741573033708 ,  30821 ,  0.0525981089352 )\n",
      " Iteration  2  Current Best (BER, f1, num_feats, score): ( 0.0495160089352 ,  0.741573033708 ,  30617 ,  0.0525777089352 )\n",
      " Iteration  2  Current Best (BER, f1, num_feats, score): ( 0.0495160089352 ,  0.741573033708 ,  30450 ,  0.0525610089352 )\n",
      " Iteration  2  Current Best (BER, f1, num_feats, score): ( 0.0495160089352 ,  0.741573033708 ,  30441 ,  0.0525601089352 )\n",
      " Iteration  2  Current Best (BER, f1, num_feats, score): ( 0.0495160089352 ,  0.741573033708 ,  30434 ,  0.0525594089352 )\n",
      " Iteration  2  Current Best (BER, f1, num_feats, score): ( 0.0495160089352 ,  0.741573033708 ,  30396 ,  0.0525556089352 )\n",
      " Iteration  2  Current Best (BER, f1, num_feats, score): ( 0.0495160089352 ,  0.741573033708 ,  30379 ,  0.0525539089352 )\n",
      " Iteration  2  Current Best (BER, f1, num_feats, score): ( 0.0495160089352 ,  0.741573033708 ,  30378 ,  0.0525538089352 )\n",
      " Iteration  2  Current Best (BER, f1, num_feats, score): ( 0.0495160089352 ,  0.741573033708 ,  30363 ,  0.0525523089352 )\n",
      " Iteration  2  Current Best (BER, f1, num_feats, score): ( 0.0495160089352 ,  0.741573033708 ,  30347 ,  0.0525507089352 )\n",
      " Iteration  2  Current Best (BER, f1, num_feats, score): ( 0.0495160089352 ,  0.741573033708 ,  30281 ,  0.0525441089352 )\n",
      " Iteration  2  Current Best (BER, f1, num_feats, score): ( 0.0495160089352 ,  0.741573033708 ,  30212 ,  0.0525372089352 )\n"
     ]
    },
    {
     "name": "stdout",
     "output_type": "stream",
     "text": [
      " Iteration  2  Current Best (BER, f1, num_feats, score): ( 0.0495160089352 ,  0.741573033708 ,  30210 ,  0.0525370089352 )\n",
      " Iteration  2  Current Best (BER, f1, num_feats, score): ( 0.0495160089352 ,  0.741573033708 ,  30209 ,  0.0525369089352 )\n",
      " Iteration  2  Current Best (BER, f1, num_feats, score): ( 0.0495160089352 ,  0.741573033708 ,  30207 ,  0.0525367089352 )\n",
      " Iteration  2  Current Best (BER, f1, num_feats, score): ( 0.0495160089352 ,  0.741573033708 ,  30201 ,  0.0525361089352 )\n",
      " Iteration  2  Current Best (BER, f1, num_feats, score): ( 0.0495160089352 ,  0.741573033708 ,  30135 ,  0.0525295089352 )\n",
      "\n",
      "Initializing the swarm....\n",
      "Iteration  3  Initial Best (BER, f1, num_feats, score): ( 0.0972635889799 ,  0.74358974359 ,  50061 ,  0.10226968898 )\n",
      " Iteration  3  Current Best (BER, f1, num_feats, score): ( 0.0974497393894 ,  0.587155963303 ,  38141 ,  0.101263839389 )\n",
      " Iteration  3  Current Best (BER, f1, num_feats, score): ( 0.092051377513 ,  0.705882352941 ,  49414 ,  0.096992777513 )\n",
      " Iteration  3  Current Best (BER, f1, num_feats, score): ( 0.0847915115413 ,  0.633663366337 ,  40259 ,  0.0888174115413 )\n",
      " Iteration  3  Current Best (BER, f1, num_feats, score): ( 0.0832092330603 ,  0.64 ,  41260 ,  0.0873352330603 )\n",
      " Iteration  3  Current Best (BER, f1, num_feats, score): ( 0.0832092330603 ,  0.64 ,  41253 ,  0.0873345330603 )\n",
      " Iteration  3  Current Best (BER, f1, num_feats, score): ( 0.0843261355175 ,  0.594594594595 ,  27932 ,  0.0871193355175 )\n",
      " Iteration  3  Current Best (BER, f1, num_feats, score): ( 0.0820923306031 ,  0.696629213483 ,  42882 ,  0.0863805306031 )\n",
      " Iteration  3  Current Best (BER, f1, num_feats, score): ( 0.0816269545793 ,  0.646464646465 ,  33579 ,  0.0849848545793 )\n",
      " Iteration  3  Current Best (BER, f1, num_feats, score): ( 0.0800446760983 ,  0.65306122449 ,  27835 ,  0.0828281760983 )\n",
      " Iteration  3  Current Best (BER, f1, num_feats, score): ( 0.0779970215934 ,  0.616822429907 ,  36147 ,  0.0816117215934 )\n",
      " Iteration  3  Current Best (BER, f1, num_feats, score): ( 0.0748324646314 ,  0.628571428571 ,  31266 ,  0.0779590646314 )\n",
      " Iteration  3  Current Best (BER, f1, num_feats, score): ( 0.0700856291884 ,  0.647058823529 ,  34618 ,  0.0735474291884 )\n",
      " Iteration  3  Current Best (BER, f1, num_feats, score): ( 0.0621742367833 ,  0.680412371134 ,  34199 ,  0.0655941367833 )\n",
      " Iteration  3  Current Best (BER, f1, num_feats, score): ( 0.0621742367833 ,  0.680412371134 ,  34035 ,  0.0655777367833 )\n",
      " Iteration  3  Current Best (BER, f1, num_feats, score): ( 0.0605919583023 ,  0.6875 ,  37312 ,  0.0643231583023 )\n",
      " Iteration  3  Current Best (BER, f1, num_feats, score): ( 0.0526805658972 ,  0.725274725275 ,  38127 ,  0.0564932658972 )\n",
      " Iteration  3  Current Best (BER, f1, num_feats, score): ( 0.0526805658972 ,  0.725274725275 ,  37967 ,  0.0564772658972 )\n",
      " Iteration  3  Current Best (BER, f1, num_feats, score): ( 0.0510982874162 ,  0.733333333333 ,  38862 ,  0.0549844874162 )\n",
      " Iteration  3  Current Best (BER, f1, num_feats, score): ( 0.0510982874162 ,  0.733333333333 ,  37709 ,  0.0548691874162 )\n",
      " Iteration  3  Current Best (BER, f1, num_feats, score): ( 0.0495160089352 ,  0.741573033708 ,  38401 ,  0.0533561089352 )\n",
      " Iteration  3  Current Best (BER, f1, num_feats, score): ( 0.0495160089352 ,  0.741573033708 ,  38134 ,  0.0533294089352 )\n",
      " Iteration  3  Current Best (BER, f1, num_feats, score): ( 0.0495160089352 ,  0.741573033708 ,  37609 ,  0.0532769089352 )\n",
      " Iteration  3  Current Best (BER, f1, num_feats, score): ( 0.0495160089352 ,  0.741573033708 ,  37259 ,  0.0532419089352 )\n",
      " Iteration  3  Current Best (BER, f1, num_feats, score): ( 0.0495160089352 ,  0.741573033708 ,  36366 ,  0.0531526089352 )\n",
      " Iteration  3  Current Best (BER, f1, num_feats, score): ( 0.0479337304542 ,  0.75 ,  37493 ,  0.0516830304542 )\n",
      " Iteration  3  Current Best (BER, f1, num_feats, score): ( 0.0479337304542 ,  0.75 ,  37327 ,  0.0516664304542 )\n",
      " Iteration  3  Current Best (BER, f1, num_feats, score): ( 0.0479337304542 ,  0.75 ,  37095 ,  0.0516432304542 )\n",
      " Iteration  3  Current Best (BER, f1, num_feats, score): ( 0.0479337304542 ,  0.75 ,  37072 ,  0.0516409304542 )\n",
      " Iteration  3  Current Best (BER, f1, num_feats, score): ( 0.0479337304542 ,  0.75 ,  37026 ,  0.0516363304542 )\n",
      " Iteration  3  Current Best (BER, f1, num_feats, score): ( 0.0479337304542 ,  0.75 ,  37013 ,  0.0516350304542 )\n",
      " Iteration  3  Current Best (BER, f1, num_feats, score): ( 0.0479337304542 ,  0.75 ,  37009 ,  0.0516346304542 )\n",
      " Iteration  3  Current Best (BER, f1, num_feats, score): ( 0.0479337304542 ,  0.75 ,  37004 ,  0.0516341304542 )\n",
      " Iteration  3  Current Best (BER, f1, num_feats, score): ( 0.0479337304542 ,  0.75 ,  36953 ,  0.0516290304542 )\n",
      " Iteration  3  Current Best (BER, f1, num_feats, score): ( 0.0479337304542 ,  0.75 ,  36946 ,  0.0516283304542 )\n",
      " Iteration  3  Current Best (BER, f1, num_feats, score): ( 0.0479337304542 ,  0.75 ,  36919 ,  0.0516256304542 )\n",
      " Iteration  3  Current Best (BER, f1, num_feats, score): ( 0.0479337304542 ,  0.75 ,  36908 ,  0.0516245304542 )\n",
      " Iteration  3  Current Best (BER, f1, num_feats, score): ( 0.0479337304542 ,  0.75 ,  36880 ,  0.0516217304542 )\n",
      " Iteration  3  Current Best (BER, f1, num_feats, score): ( 0.0479337304542 ,  0.75 ,  36871 ,  0.0516208304542 )\n",
      " Iteration  3  Current Best (BER, f1, num_feats, score): ( 0.0479337304542 ,  0.75 ,  36870 ,  0.0516207304542 )\n",
      " Iteration  3  Current Best (BER, f1, num_feats, score): ( 0.0479337304542 ,  0.75 ,  36865 ,  0.0516202304542 )\n",
      " Iteration  3  Current Best (BER, f1, num_feats, score): ( 0.0479337304542 ,  0.75 ,  36344 ,  0.0515681304542 )\n",
      " Iteration  3  Current Best (BER, f1, num_feats, score): ( 0.0479337304542 ,  0.75 ,  35657 ,  0.0514994304542 )\n",
      " Iteration  3  Current Best (BER, f1, num_feats, score): ( 0.0479337304542 ,  0.75 ,  35526 ,  0.0514863304542 )\n",
      " Iteration  3  Current Best (BER, f1, num_feats, score): ( 0.0479337304542 ,  0.75 ,  35259 ,  0.0514596304542 )\n",
      " Iteration  3  Current Best (BER, f1, num_feats, score): ( 0.0479337304542 ,  0.75 ,  35010 ,  0.0514347304542 )\n",
      " Iteration  3  Current Best (BER, f1, num_feats, score): ( 0.0479337304542 ,  0.75 ,  34677 ,  0.0514014304542 )\n",
      " Iteration  3  Current Best (BER, f1, num_feats, score): ( 0.0479337304542 ,  0.75 ,  34570 ,  0.0513907304542 )\n",
      " Iteration  3  Current Best (BER, f1, num_feats, score): ( 0.0479337304542 ,  0.75 ,  34535 ,  0.0513872304542 )\n",
      " Iteration  3  Current Best (BER, f1, num_feats, score): ( 0.0479337304542 ,  0.75 ,  34311 ,  0.0513648304542 )\n",
      " Iteration  3  Current Best (BER, f1, num_feats, score): ( 0.0479337304542 ,  0.75 ,  33893 ,  0.0513230304542 )\n",
      " Iteration  3  Current Best (BER, f1, num_feats, score): ( 0.0479337304542 ,  0.75 ,  33762 ,  0.0513099304542 )\n",
      " Iteration  3  Current Best (BER, f1, num_feats, score): ( 0.0479337304542 ,  0.75 ,  33197 ,  0.0512534304542 )\n",
      " Iteration  3  Current Best (BER, f1, num_feats, score): ( 0.0479337304542 ,  0.75 ,  33063 ,  0.0512400304542 )\n",
      " Iteration  3  Current Best (BER, f1, num_feats, score): ( 0.0479337304542 ,  0.75 ,  32709 ,  0.0512046304542 )\n",
      " Iteration  3  Current Best (BER, f1, num_feats, score): ( 0.0479337304542 ,  0.75 ,  32560 ,  0.0511897304542 )\n",
      " Iteration  3  Current Best (BER, f1, num_feats, score): ( 0.0479337304542 ,  0.75 ,  32136 ,  0.0511473304542 )\n",
      " Iteration  3  Current Best (BER, f1, num_feats, score): ( 0.0463514519732 ,  0.758620689655 ,  33730 ,  0.0497244519732 )\n",
      " Iteration  3  Current Best (BER, f1, num_feats, score): ( 0.0463514519732 ,  0.758620689655 ,  32998 ,  0.0496512519732 )\n",
      " Iteration  3  Current Best (BER, f1, num_feats, score): ( 0.0463514519732 ,  0.758620689655 ,  32855 ,  0.0496369519732 )\n",
      " Iteration  3  Current Best (BER, f1, num_feats, score): ( 0.0463514519732 ,  0.758620689655 ,  32552 ,  0.0496066519732 )\n",
      " Iteration  3  Current Best (BER, f1, num_feats, score): ( 0.0463514519732 ,  0.758620689655 ,  32531 ,  0.0496045519732 )\n",
      " Iteration  3  Current Best (BER, f1, num_feats, score): ( 0.0463514519732 ,  0.758620689655 ,  32515 ,  0.0496029519732 )\n",
      " Iteration  3  Current Best (BER, f1, num_feats, score): ( 0.0463514519732 ,  0.758620689655 ,  32513 ,  0.0496027519732 )\n",
      " Iteration  3  Current Best (BER, f1, num_feats, score): ( 0.0463514519732 ,  0.758620689655 ,  32507 ,  0.0496021519732 )\n",
      " Iteration  3  Current Best (BER, f1, num_feats, score): ( 0.0463514519732 ,  0.758620689655 ,  32505 ,  0.0496019519732 )\n"
     ]
    },
    {
     "name": "stdout",
     "output_type": "stream",
     "text": [
      " Iteration  3  Current Best (BER, f1, num_feats, score): ( 0.0463514519732 ,  0.758620689655 ,  32500 ,  0.0496014519732 )\n",
      " Iteration  3  Current Best (BER, f1, num_feats, score): ( 0.0463514519732 ,  0.758620689655 ,  32495 ,  0.0496009519732 )\n",
      " Iteration  3  Current Best (BER, f1, num_feats, score): ( 0.0463514519732 ,  0.758620689655 ,  32474 ,  0.0495988519732 )\n",
      "\n"
     ]
    }
   ],
   "source": [
    "# Run Dorothea Test\n",
    "\n",
    "X_train, y_train, X_test, y_test = load_data('dorothea')\n",
    "clf.fit(X_train, y_train)\n",
    "print('-----------------------------------------')\n",
    "print('Performance on Full Feature Space')\n",
    "print('-----------------------------------------')\n",
    "error_metrics(y_test, clf.predict(X_test))\n",
    "print('-----------------------------------------')\n",
    "\n",
    "best_dor = []\n",
    "\n",
    "for exp in range(3):\n",
    "    \n",
    "    best_dor.append(run_pso(150, 100, 0.01, clf, exp+1))\n",
    "    \n",
    "dor_ber = np.asanyarray([100*x.ber for x in best_dor])\n",
    "dor_f1 = np.asanyarray([100*x.f1 for x in best_dor])\n",
    "dor_num_feats = np.asanyarray([x.num_feats for x in best_dor])"
   ]
  },
  {
   "cell_type": "code",
   "execution_count": 45,
   "metadata": {},
   "outputs": [
    {
     "data": {
      "image/png": "[encoded data removed]",
      "text/plain": [
       "<matplotlib.figure.Figure at 0x7f0532a596d8>"
      ]
     },
     "metadata": {},
     "output_type": "display_data"
    }
   ],
   "source": [
    "fig, (ax1, ax2, ax3) = plt.subplots(nrows=3, )\n",
    "sns.swarmplot(dor_f1, color='k', ax=ax1)\n",
    "sns.boxplot(dor_f1, color='r', ax=ax1)\n",
    "ax1.set_xlabel('Dorothea F1 Distributions: mean = ' + str(round(dor_f1.mean(),2)) + '%')\n",
    "sns.swarmplot(dor_ber, color='k', ax=ax2)\n",
    "sns.boxplot(dor_ber, color='c', ax=ax2)\n",
    "ax2.set_xlabel('Dorothea BER Distributions: mean = :' + str(round(dor_ber.mean(),2)) + '%')\n",
    "sns.swarmplot(dor_num_feats, color='k', ax=ax3)\n",
    "sns.boxplot(dor_num_feats, color='g', ax=ax3)\n",
    "ax3.set_xlabel('Dorothea Number of Features Distributions: mean = ' + str(dor_num_feats.mean()) )\n",
    "plt.tight_layout()"
   ]
  },
  {
   "cell_type": "code",
   "execution_count": 48,
   "metadata": {
    "scrolled": true
   },
   "outputs": [
    {
     "name": "stdout",
     "output_type": "stream",
     "text": [
      "ARCENE Data:\n",
      "Training data info: \n",
      "100  samples,  10000  features.\n",
      "44  positve samples,  56  negative samples\n",
      "-------------------------------\n",
      "Test data info: \n",
      "100  samples.\n",
      "44  positve samples,  56  negative samples\n",
      "-----------------------------------------\n",
      "Performance on Full Feature Space\n",
      "-----------------------------------------\n",
      "BER:  0.167207792208\n",
      "F1:  0.809523809524\n",
      "-----------------------------------------\n",
      "Initializing the swarm....\n",
      "Iteration  1  Initial Best (BER, f1, num_feats, score): ( 0.112824675325 ,  0.873563218391 ,  1892 ,  0.114716675325 )\n",
      "\n",
      "\n",
      " Final Best (BER, f1, num_feats): ( 0.0405844155844 ,  0.954545454545 ,  459 )\n",
      "Initializing the swarm....\n",
      "Iteration  2  Initial Best (BER, f1, num_feats, score): ( 0.124188311688 ,  0.860465116279 ,  645 ,  0.124833311688 )\n"
     ]
    },
    {
     "name": "stderr",
     "output_type": "stream",
     "text": [
      "/home/james/anaconda3/lib/python3.5/site-packages/sklearn/metrics/classification.py:1135: UndefinedMetricWarning: F-score is ill-defined and being set to 0.0 due to no predicted samples.\n",
      "  'precision', 'predicted', average, warn_for)\n"
     ]
    },
    {
     "name": "stdout",
     "output_type": "stream",
     "text": [
      "\n",
      " Final Best (BER, f1, num_feats): ( 0.0267857142857 ,  0.967032967033 ,  78 )\n",
      "Initializing the swarm....\n",
      "Iteration  3  Initial Best (BER, f1, num_feats, score): ( 0.116883116883 ,  0.869565217391 ,  2078 ,  0.118961116883 )\n",
      "\n",
      " Final Best (BER, f1, num_feats): ( 0.0292207792208 ,  0.966292134831 ,  118 )\n",
      "Initializing the swarm....\n",
      "Iteration  4  Initial Best (BER, f1, num_feats, score): ( 0.11525974026 ,  0.870588235294 ,  3513 ,  0.11877274026 )\n",
      "\n",
      " Final Best (BER, f1, num_feats): ( 0.0227272727273 ,  0.976744186047 ,  273 )\n",
      "Initializing the swarm....\n",
      "Iteration  5  Initial Best (BER, f1, num_feats, score): ( 0.13961038961 ,  0.844444444444 ,  1800 ,  0.14141038961 )\n",
      "\n",
      " Final Best (BER, f1, num_feats): ( 0.0543831168831 ,  0.941176470588 ,  170 )\n",
      "Initializing the swarm....\n",
      "Iteration  6  Initial Best (BER, f1, num_feats, score): ( 0.135551948052 ,  0.847058823529 ,  1594 ,  0.137145948052 )\n",
      "\n",
      " Final Best (BER, f1, num_feats): ( 0.0292207792208 ,  0.966292134831 ,  116 )\n",
      "Initializing the swarm....\n",
      "Iteration  7  Initial Best (BER, f1, num_feats, score): ( 0.126623376623 ,  0.857142857143 ,  650 ,  0.127273376623 )\n",
      "\n",
      " Final Best (BER, f1, num_feats): ( 0.0430194805195 ,  0.953488372093 ,  323 )\n",
      "Initializing the swarm....\n",
      "Iteration  8  Initial Best (BER, f1, num_feats, score): ( 0.121753246753 ,  0.863636363636 ,  3491 ,  0.125244246753 )\n",
      "\n",
      " Final Best (BER, f1, num_feats): ( 0.0202922077922 ,  0.977272727273 ,  238 )\n",
      "Initializing the swarm....\n",
      "Iteration  9  Initial Best (BER, f1, num_feats, score): ( 0.124188311688 ,  0.860465116279 ,  2659 ,  0.126847311688 )\n",
      "\n",
      " Final Best (BER, f1, num_feats): ( 0.0113636363636 ,  0.988505747126 ,  358 )\n",
      "Initializing the swarm....\n",
      "Iteration  10  Initial Best (BER, f1, num_feats, score): ( 0.135551948052 ,  0.847058823529 ,  897 ,  0.136448948052 )\n",
      "\n",
      " Final Best (BER, f1, num_feats): ( 0.0292207792208 ,  0.966292134831 ,  260 )\n",
      "Initializing the swarm....\n",
      "Iteration  11  Initial Best (BER, f1, num_feats, score): ( 0.137987012987 ,  0.843373493976 ,  861 ,  0.138848012987 )\n",
      "\n",
      " Final Best (BER, f1, num_feats): ( 0.0316558441558 ,  0.965517241379 ,  576 )\n",
      "Initializing the swarm....\n",
      "Iteration  12  Initial Best (BER, f1, num_feats, score): ( 0.126623376623 ,  0.857142857143 ,  2631 ,  0.129254376623 )\n",
      "\n",
      " Final Best (BER, f1, num_feats): ( 0.0381493506494 ,  0.955555555556 ,  80 )\n",
      "Initializing the swarm....\n",
      "Iteration  13  Initial Best (BER, f1, num_feats, score): ( 0.121753246753 ,  0.863636363636 ,  1727 ,  0.123480246753 )\n",
      "\n",
      " Final Best (BER, f1, num_feats): ( 0.0227272727273 ,  0.976744186047 ,  207 )\n",
      "Initializing the swarm....\n",
      "Iteration  14  Initial Best (BER, f1, num_feats, score): ( 0.116883116883 ,  0.869565217391 ,  215 ,  0.117098116883 )\n",
      "\n",
      " Final Best (BER, f1, num_feats): ( 0.0543831168831 ,  0.941176470588 ,  122 )\n",
      "Initializing the swarm....\n",
      "Iteration  15  Initial Best (BER, f1, num_feats, score): ( 0.124188311688 ,  0.860465116279 ,  822 ,  0.125010311688 )\n",
      "\n",
      " Final Best (BER, f1, num_feats): ( 0.0519480519481 ,  0.942528735632 ,  411 )\n",
      "Initializing the swarm....\n",
      "Iteration  16  Initial Best (BER, f1, num_feats, score): ( 0.133116883117 ,  0.850574712644 ,  1094 ,  0.134210883117 )\n",
      "\n",
      " Final Best (BER, f1, num_feats): ( 0.0202922077922 ,  0.977272727273 ,  249 )\n",
      "Initializing the swarm....\n",
      "Iteration  17  Initial Best (BER, f1, num_feats, score): ( 0.135551948052 ,  0.847058823529 ,  3115 ,  0.138666948052 )\n",
      "\n",
      " Final Best (BER, f1, num_feats): ( 0.0227272727273 ,  0.976744186047 ,  408 )\n",
      "Initializing the swarm....\n",
      "Iteration  18  Initial Best (BER, f1, num_feats, score): ( 0.135551948052 ,  0.847058823529 ,  3250 ,  0.138801948052 )\n",
      "\n",
      " Final Best (BER, f1, num_feats): ( 0.0292207792208 ,  0.966292134831 ,  118 )\n",
      "Initializing the swarm....\n",
      "Iteration  19  Initial Best (BER, f1, num_feats, score): ( 0.130681818182 ,  0.85393258427 ,  1782 ,  0.132463818182 )\n",
      "\n",
      " Final Best (BER, f1, num_feats): ( 0.0202922077922 ,  0.977272727273 ,  189 )\n",
      "Initializing the swarm....\n",
      "Iteration  20  Initial Best (BER, f1, num_feats, score): ( 0.124188311688 ,  0.860465116279 ,  1120 ,  0.125308311688 )\n",
      "\n",
      " Final Best (BER, f1, num_feats): ( 0.0202922077922 ,  0.977272727273 ,  74 )\n",
      "Initializing the swarm....\n",
      "Iteration  21  Initial Best (BER, f1, num_feats, score): ( 0.133116883117 ,  0.850574712644 ,  1925 ,  0.135041883117 )\n",
      "\n",
      " Final Best (BER, f1, num_feats): ( 0.0113636363636 ,  0.988505747126 ,  185 )\n",
      "Initializing the swarm....\n",
      "Iteration  22  Initial Best (BER, f1, num_feats, score): ( 0.129058441558 ,  0.853658536585 ,  2817 ,  0.131875441558 )\n",
      "\n",
      " Final Best (BER, f1, num_feats): ( 0.0316558441558 ,  0.965517241379 ,  124 )\n",
      "Initializing the swarm....\n",
      "Iteration  23  Initial Best (BER, f1, num_feats, score): ( 0.119318181818 ,  0.866666666667 ,  340 ,  0.119658181818 )\n",
      "\n",
      " Final Best (BER, f1, num_feats): ( 0.0227272727273 ,  0.976744186047 ,  262 )\n",
      "Initializing the swarm....\n",
      "Iteration  24  Initial Best (BER, f1, num_feats, score): ( 0.135551948052 ,  0.847058823529 ,  892 ,  0.136443948052 )\n",
      "\n",
      " Final Best (BER, f1, num_feats): ( 0.0316558441558 ,  0.965517241379 ,  80 )\n",
      "Initializing the swarm....\n",
      "Iteration  25  Initial Best (BER, f1, num_feats, score): ( 0.124188311688 ,  0.860465116279 ,  1686 ,  0.125874311688 )\n",
      "\n",
      " Final Best (BER, f1, num_feats): ( 0.0113636363636 ,  0.988505747126 ,  237 )\n"
     ]
    }
   ],
   "source": [
    "# Run Arcene Test\n",
    "\n",
    "X_train, y_train, X_test, y_test = load_data('arcene')\n",
    "clf.fit(X_train, y_train)\n",
    "print('-----------------------------------------')\n",
    "print('Performance on Full Feature Space')\n",
    "print('-----------------------------------------')\n",
    "error_metrics(y_test, clf.predict(X_test))\n",
    "print('-----------------------------------------')\n",
    "\n",
    "best_arcene = []\n",
    "\n",
    "for exp in range(25):\n",
    "    \n",
    "    best_arcene.append(run_pso(150, 100, 0.01, clf, exp+1))\n",
    "    \n",
    "arcene1_ber = np.asanyarray([100*x.ber for x in best_arcene])\n",
    "arcene1_f1 = np.asanyarray([100*x.f1 for x in best_arcene])\n",
    "arcene1_num_feats = np.asanyarray([x.num_feats for x in best_arcene])"
   ]
  },
  {
   "cell_type": "code",
   "execution_count": null,
   "metadata": {
    "collapsed": true
   },
   "outputs": [],
   "source": []
  }
 ],
 "metadata": {
  "anaconda-cloud": {},
  "kernelspec": {
   "display_name": "Python [conda root]",
   "language": "python",
   "name": "conda-root-py"
  },
  "language_info": {
   "codemirror_mode": {
    "name": "ipython",
    "version": 3
   },
   "file_extension": ".py",
   "mimetype": "text/x-python",
   "name": "python",
   "nbconvert_exporter": "python",
   "pygments_lexer": "ipython3",
   "version": "3.5.2"
  },
  "widgets": {
   "state": {
    "0132285775db44b4a79c55bc3f375d4b": {
     "views": [
      {
       "cell_index": 9
      }
     ]
    },
    "0ca92076e83d45d3b57c153dc4a008b6": {
     "views": [
      {
       "cell_index": 17
      }
     ]
    },
    "1c74060b927f44039f6593f773ae7c06": {
     "views": [
      {
       "cell_index": 9
      }
     ]
    },
    "27aec257025442c7928c28af3337fa0c": {
     "views": [
      {
       "cell_index": 15
      }
     ]
    },
    "27c86629a78f4366af1c00fc48a8e8a6": {
     "views": [
      {
       "cell_index": 17
      }
     ]
    },
    "3265dcba7a65404caa71a782980bd133": {
     "views": [
      {
       "cell_index": 17
      }
     ]
    },
    "3b674eb5dd9b44c18593e420df757a57": {
     "views": [
      {
       "cell_index": 13
      }
     ]
    },
    "3dcfe0c68eb949b198ed300f74046e3a": {
     "views": [
      {
       "cell_index": 17
      }
     ]
    },
    "4337f1c9c90f4e1caffaa12227deeb10": {
     "views": [
      {
       "cell_index": 17
      }
     ]
    },
    "486efae3f1f5461d9a16622083076463": {
     "views": [
      {
       "cell_index": 17
      }
     ]
    },
    "4f305eda42734c8597dbbcfb02da76f4": {
     "views": [
      {
       "cell_index": 17
      }
     ]
    },
    "5ba7ac339c184382b0fce2863167337f": {
     "views": [
      {
       "cell_index": 11
      }
     ]
    },
    "66b2c0f00048497eb34f64b0beec3cb4": {
     "views": [
      {
       "cell_index": 9
      }
     ]
    },
    "6a280030f2fd45e09112342d250d1ba2": {
     "views": [
      {
       "cell_index": 17
      }
     ]
    },
    "6ae682257dfa44cc81d15e33af52520c": {
     "views": [
      {
       "cell_index": 17
      }
     ]
    },
    "6b622d0d1bc14b57b003b08b6f4dd493": {
     "views": [
      {
       "cell_index": 15
      }
     ]
    },
    "7d40bc7140d3499b91789c8cfdba80d2": {
     "views": [
      {
       "cell_index": 17
      }
     ]
    },
    "7e9ac8bb04624397a45e4d5f7d3339ea": {
     "views": [
      {
       "cell_index": 15
      }
     ]
    },
    "80b1e3ba9972486589e296c1bff8b4d7": {
     "views": [
      {
       "cell_index": 17
      }
     ]
    },
    "889a709e8752429cba52d6ae6007257f": {
     "views": [
      {
       "cell_index": 17
      }
     ]
    },
    "891d8e87f8934adbb95228a01f29c362": {
     "views": [
      {
       "cell_index": 13
      }
     ]
    },
    "93c271c21a3941bc937983f202c28328": {
     "views": [
      {
       "cell_index": 17
      }
     ]
    },
    "9f397a4053244d2fb73f381aebfd2fbf": {
     "views": [
      {
       "cell_index": 17
      }
     ]
    },
    "ad19e26502804d31a44ae9f12601c42a": {
     "views": [
      {
       "cell_index": 17
      }
     ]
    },
    "bf78fb5988f04cea8d4205c4a49c9c53": {
     "views": [
      {
       "cell_index": 17
      }
     ]
    },
    "c014d0288b7e4fbdabd01db900d33ca2": {
     "views": [
      {
       "cell_index": 11
      }
     ]
    },
    "c1bcfdbd1fb5406b98eb0f64023aca1b": {
     "views": [
      {
       "cell_index": 17
      }
     ]
    },
    "c2cdccfb600548509932c9c7c916c8d0": {
     "views": [
      {
       "cell_index": 17
      }
     ]
    },
    "ca2ec95f2c95407597d89fd24107d653": {
     "views": [
      {
       "cell_index": 11
      }
     ]
    },
    "cc67a425e2a5490f885bb945e2044ad6": {
     "views": [
      {
       "cell_index": 17
      }
     ]
    },
    "cda51f24f7f546339704394d39712f00": {
     "views": [
      {
       "cell_index": 17
      }
     ]
    },
    "debea4ae1cf44c26b23133f22dad425d": {
     "views": [
      {
       "cell_index": 9
      }
     ]
    },
    "e1cdd68b268244ce861739e459936d2b": {
     "views": [
      {
       "cell_index": 17
      }
     ]
    },
    "e94005030c824f32b61256cfe1b671b5": {
     "views": [
      {
       "cell_index": 17
      }
     ]
    },
    "ef36ecc1b9714004a91f0a0585528897": {
     "views": [
      {
       "cell_index": 9
      }
     ]
    },
    "f0873aa5e0304d44878c45f5349efc00": {
     "views": [
      {
       "cell_index": 17
      }
     ]
    },
    "f4961dc3fb274eed8f71634e58539611": {
     "views": [
      {
       "cell_index": 17
      }
     ]
    },
    "fdd029c564ed45768b78c2aec9c89f01": {
     "views": [
      {
       "cell_index": 17
      }
     ]
    }
   },
   "version": "1.2.0"
  }
 },
 "nbformat": 4,
 "nbformat_minor": 1
}
