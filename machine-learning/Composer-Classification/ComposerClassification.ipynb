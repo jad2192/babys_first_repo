{
 "cells": [
  {
   "cell_type": "code",
   "execution_count": 8,
   "metadata": {},
   "outputs": [],
   "source": [
    "import numpy as np\n",
    "import pandas as pd\n",
    "import matplotlib as mpl\n",
    "from matplotlib import pyplot as plt\n",
    "import seaborn as sns\n",
    "import sklearn\n",
    "from sklearn.linear_model import LogisticRegression\n",
    "from sklearn.linear_model import RidgeClassifier\n",
    "from sklearn.neighbors import KNeighborsClassifier\n",
    "from sklearn.neural_network import MLPClassifier\n",
    "from sklearn.svm import SVC\n",
    "from sklearn.ensemble import GradientBoostingClassifier\n",
    "from sklearn.preprocessing import StandardScaler\n",
    "from sklearn.decomposition import KernelPCA\n",
    "from sklearn.model_selection import train_test_split\n",
    "from sklearn.metrics import accuracy_score, confusion_matrix\n",
    "% matplotlib inline"
   ]
  },
  {
   "cell_type": "code",
   "execution_count": 5,
   "metadata": {},
   "outputs": [
    {
     "data": {
      "text/html": [
       "<div>\n",
       "<table border=\"1\" class=\"dataframe\">\n",
       "  <thead>\n",
       "    <tr style=\"text-align: right;\">\n",
       "      <th></th>\n",
       "      <th>Amount_of_Arpeggiation</th>\n",
       "      <th>Repeated_Notes</th>\n",
       "      <th>Chromatic_Motion</th>\n",
       "      <th>Melodic_Thirds</th>\n",
       "      <th>Melodic_Fifths</th>\n",
       "      <th>Melodic_Tritones</th>\n",
       "      <th>Melodic_Octaves</th>\n",
       "      <th>Initial_Time_Signature_0</th>\n",
       "      <th>Initial_Time_Signature_1</th>\n",
       "      <th>Compound_Or_Simple_Meter</th>\n",
       "      <th>...</th>\n",
       "      <th>Fifths_Pitch_Histogram_5</th>\n",
       "      <th>Fifths_Pitch_Histogram_6</th>\n",
       "      <th>Fifths_Pitch_Histogram_7</th>\n",
       "      <th>Fifths_Pitch_Histogram_8</th>\n",
       "      <th>Fifths_Pitch_Histogram_9</th>\n",
       "      <th>Fifths_Pitch_Histogram_10</th>\n",
       "      <th>Fifths_Pitch_Histogram_11</th>\n",
       "      <th>Unique_Note_Quarter_Lengths</th>\n",
       "      <th>Most_Common_Note_Quarter_Length_Prevalence</th>\n",
       "      <th>Composer</th>\n",
       "    </tr>\n",
       "  </thead>\n",
       "  <tbody>\n",
       "    <tr>\n",
       "      <th>0</th>\n",
       "      <td>0.000000</td>\n",
       "      <td>0.00000</td>\n",
       "      <td>0.000000</td>\n",
       "      <td>0.000000</td>\n",
       "      <td>0.00000</td>\n",
       "      <td>0.000000</td>\n",
       "      <td>0.000000</td>\n",
       "      <td>3</td>\n",
       "      <td>4</td>\n",
       "      <td>0</td>\n",
       "      <td>...</td>\n",
       "      <td>0.422187</td>\n",
       "      <td>0.438947</td>\n",
       "      <td>0.102155</td>\n",
       "      <td>0.019154</td>\n",
       "      <td>0.129290</td>\n",
       "      <td>0.225060</td>\n",
       "      <td>0.067039</td>\n",
       "      <td>15</td>\n",
       "      <td>0.601060</td>\n",
       "      <td>2</td>\n",
       "    </tr>\n",
       "    <tr>\n",
       "      <th>1</th>\n",
       "      <td>1.000000</td>\n",
       "      <td>0.00000</td>\n",
       "      <td>0.000000</td>\n",
       "      <td>0.000000</td>\n",
       "      <td>1.00000</td>\n",
       "      <td>0.000000</td>\n",
       "      <td>0.000000</td>\n",
       "      <td>12</td>\n",
       "      <td>8</td>\n",
       "      <td>1</td>\n",
       "      <td>...</td>\n",
       "      <td>0.553846</td>\n",
       "      <td>0.123077</td>\n",
       "      <td>0.000000</td>\n",
       "      <td>0.030769</td>\n",
       "      <td>0.000000</td>\n",
       "      <td>0.061538</td>\n",
       "      <td>0.553846</td>\n",
       "      <td>6</td>\n",
       "      <td>0.543071</td>\n",
       "      <td>2</td>\n",
       "    </tr>\n",
       "    <tr>\n",
       "      <th>2</th>\n",
       "      <td>0.325043</td>\n",
       "      <td>0.13036</td>\n",
       "      <td>0.235849</td>\n",
       "      <td>0.088336</td>\n",
       "      <td>0.06518</td>\n",
       "      <td>0.004288</td>\n",
       "      <td>0.030017</td>\n",
       "      <td>4</td>\n",
       "      <td>4</td>\n",
       "      <td>0</td>\n",
       "      <td>...</td>\n",
       "      <td>0.067010</td>\n",
       "      <td>0.164948</td>\n",
       "      <td>0.123711</td>\n",
       "      <td>0.159794</td>\n",
       "      <td>0.536082</td>\n",
       "      <td>0.762887</td>\n",
       "      <td>0.659794</td>\n",
       "      <td>12</td>\n",
       "      <td>0.528128</td>\n",
       "      <td>2</td>\n",
       "    </tr>\n",
       "    <tr>\n",
       "      <th>3</th>\n",
       "      <td>1.000000</td>\n",
       "      <td>0.00000</td>\n",
       "      <td>0.000000</td>\n",
       "      <td>0.000000</td>\n",
       "      <td>0.00000</td>\n",
       "      <td>0.000000</td>\n",
       "      <td>1.000000</td>\n",
       "      <td>4</td>\n",
       "      <td>4</td>\n",
       "      <td>0</td>\n",
       "      <td>...</td>\n",
       "      <td>0.967391</td>\n",
       "      <td>0.804348</td>\n",
       "      <td>0.619565</td>\n",
       "      <td>0.652174</td>\n",
       "      <td>0.597826</td>\n",
       "      <td>0.228261</td>\n",
       "      <td>0.000000</td>\n",
       "      <td>21</td>\n",
       "      <td>0.579176</td>\n",
       "      <td>2</td>\n",
       "    </tr>\n",
       "    <tr>\n",
       "      <th>4</th>\n",
       "      <td>0.000000</td>\n",
       "      <td>0.00000</td>\n",
       "      <td>0.000000</td>\n",
       "      <td>0.000000</td>\n",
       "      <td>0.00000</td>\n",
       "      <td>0.000000</td>\n",
       "      <td>0.000000</td>\n",
       "      <td>0</td>\n",
       "      <td>0</td>\n",
       "      <td>0</td>\n",
       "      <td>...</td>\n",
       "      <td>0.975610</td>\n",
       "      <td>0.719512</td>\n",
       "      <td>0.268293</td>\n",
       "      <td>0.207317</td>\n",
       "      <td>0.268293</td>\n",
       "      <td>0.158537</td>\n",
       "      <td>0.073171</td>\n",
       "      <td>11</td>\n",
       "      <td>0.550691</td>\n",
       "      <td>2</td>\n",
       "    </tr>\n",
       "  </tbody>\n",
       "</table>\n",
       "<p>5 rows × 184 columns</p>\n",
       "</div>"
      ],
      "text/plain": [
       "   Amount_of_Arpeggiation  Repeated_Notes  Chromatic_Motion  Melodic_Thirds  \\\n",
       "0                0.000000         0.00000          0.000000        0.000000   \n",
       "1                1.000000         0.00000          0.000000        0.000000   \n",
       "2                0.325043         0.13036          0.235849        0.088336   \n",
       "3                1.000000         0.00000          0.000000        0.000000   \n",
       "4                0.000000         0.00000          0.000000        0.000000   \n",
       "\n",
       "   Melodic_Fifths  Melodic_Tritones  Melodic_Octaves  \\\n",
       "0         0.00000          0.000000         0.000000   \n",
       "1         1.00000          0.000000         0.000000   \n",
       "2         0.06518          0.004288         0.030017   \n",
       "3         0.00000          0.000000         1.000000   \n",
       "4         0.00000          0.000000         0.000000   \n",
       "\n",
       "   Initial_Time_Signature_0  Initial_Time_Signature_1  \\\n",
       "0                         3                         4   \n",
       "1                        12                         8   \n",
       "2                         4                         4   \n",
       "3                         4                         4   \n",
       "4                         0                         0   \n",
       "\n",
       "   Compound_Or_Simple_Meter    ...     Fifths_Pitch_Histogram_5  \\\n",
       "0                         0    ...                     0.422187   \n",
       "1                         1    ...                     0.553846   \n",
       "2                         0    ...                     0.067010   \n",
       "3                         0    ...                     0.967391   \n",
       "4                         0    ...                     0.975610   \n",
       "\n",
       "   Fifths_Pitch_Histogram_6  Fifths_Pitch_Histogram_7  \\\n",
       "0                  0.438947                  0.102155   \n",
       "1                  0.123077                  0.000000   \n",
       "2                  0.164948                  0.123711   \n",
       "3                  0.804348                  0.619565   \n",
       "4                  0.719512                  0.268293   \n",
       "\n",
       "   Fifths_Pitch_Histogram_8  Fifths_Pitch_Histogram_9  \\\n",
       "0                  0.019154                  0.129290   \n",
       "1                  0.030769                  0.000000   \n",
       "2                  0.159794                  0.536082   \n",
       "3                  0.652174                  0.597826   \n",
       "4                  0.207317                  0.268293   \n",
       "\n",
       "   Fifths_Pitch_Histogram_10  Fifths_Pitch_Histogram_11  \\\n",
       "0                   0.225060                   0.067039   \n",
       "1                   0.061538                   0.553846   \n",
       "2                   0.762887                   0.659794   \n",
       "3                   0.228261                   0.000000   \n",
       "4                   0.158537                   0.073171   \n",
       "\n",
       "   Unique_Note_Quarter_Lengths  Most_Common_Note_Quarter_Length_Prevalence  \\\n",
       "0                           15                                    0.601060   \n",
       "1                            6                                    0.543071   \n",
       "2                           12                                    0.528128   \n",
       "3                           21                                    0.579176   \n",
       "4                           11                                    0.550691   \n",
       "\n",
       "   Composer  \n",
       "0         2  \n",
       "1         2  \n",
       "2         2  \n",
       "3         2  \n",
       "4         2  \n",
       "\n",
       "[5 rows x 184 columns]"
      ]
     },
     "execution_count": 5,
     "metadata": {},
     "output_type": "execute_result"
    }
   ],
   "source": [
    "# Importing the extracted data and viewing the first 5 entries.\n",
    "\n",
    "data_r = pd.read_csv('/home/james/anaconda3/data/haralick/handmoz.csv') # change this to shuffled csv in future\n",
    "data_r.drop('Unnamed: 0', axis=1,inplace=True)\n",
    "data_r.head()"
   ]
  },
  {
   "cell_type": "code",
   "execution_count": 6,
   "metadata": {
    "collapsed": true
   },
   "outputs": [],
   "source": [
    "# Turning DataFrame into numpy arrays for analysis, shuffling the data and saving shuffled data for\n",
    "# reproducibility.\n",
    "\n",
    "data_m = data_r[data_r['Composer'] != 0].as_matrix()\n",
    "\n",
    "\n",
    "for k in range(100):      # Only do this once, after just load the pre-shuffled csv\n",
    "    np.random.shuffle(data_m)\n",
    "X_m = data_m[:,:-1]\n",
    "y = data_m[:,-1]\n",
    "\n",
    "data_shuff = pd.DataFrame(data_m)\n",
    "data_shuff.columns = data_r.columns\n",
    "data_shuff.to_csv('/home/james/anaconda3/data/haralick/handmozshuff.csv')"
   ]
  },
  {
   "cell_type": "code",
   "execution_count": 10,
   "metadata": {
    "collapsed": true
   },
   "outputs": [],
   "source": [
    "# Defining classifiers and pre-processing transformations.\n",
    "\n",
    "clf_l = LogisticRegression()\n",
    "clf_s = SVC(kernel='linear')\n",
    "gbc = GradientBoostingClassifier(loss='exponential', learning_rate=0.07, max_depth=5,\n",
    "                                 n_estimators=400, verbose=0, max_features=.501, random_state=30,\n",
    "                                 max_leaf_nodes=16)\n",
    "clf_kn = KNeighborsClassifier()\n",
    "clf_nn = MLPClassifier(hidden_layer_sizes=(150,100))\n",
    "clf_r = RidgeClassifier()\n",
    "standardize = StandardScaler()\n",
    "kpca = KernelPCA(kernel='poly',degree=5,n_components=750, random_state=5)"
   ]
  },
  {
   "cell_type": "code",
   "execution_count": 17,
   "metadata": {},
   "outputs": [],
   "source": [
    "# Creating Pipelines\n",
    "from sklearn.pipeline import Pipeline\n",
    "\n",
    "log_p2 = Pipeline([('standardize', standardize), ('kPCA', kpca), ('LogReg',clf_l)])\n",
    "svm_p2 = Pipeline([('standardize', standardize), ('kPCA', kpca), ('SVM',clf_s)])\n",
    "svm_p1 = Pipeline([('standardize', standardize), ('SVM',clf_s)])\n",
    "log_p1 = Pipeline([('standardize', standardize), ('LogReg',clf_l)])\n",
    "knn_p2 = Pipeline([('standardize', standardize), ('kPCA', kpca), ('KNN', clf_kn)])\n",
    "knn_p1 = Pipeline([('standardize', standardize), ('KNN', clf_kn)])\n",
    "ridge_p2 = Pipeline([('standardize', standardize), ('kPCA', kpca), ('Ridge', clf_r)])\n",
    "ridge_p1 = Pipeline([('standardize', standardize), ('Ridge', clf_r)])\n",
    "nn_p2 = Pipeline([('standardize', standardize), ('kPCA', kpca), ('MLP', clf_nn)])\n",
    "nn_p1 = Pipeline([('standardize', standardize), ('MLP', clf_nn)])\n",
    "\n",
    "\n",
    "pipelines = {'LogReg':clf_l, 'LogReg p2': log_p2, 'LogReg p1': log_p1, 'SVC': clf_s,\n",
    "             'SVC p2': svm_p2, 'SVC p1': svm_p1, 'KNN': clf_kn, 'KNN p2': knn_p2,\n",
    "             'KNN p1': knn_p1, 'Ridge': clf_r, 'Ridge p2': ridge_p2, 'Ridge p1': ridge_p1,\n",
    "             'MLP': clf_nn, 'MLP p2': nn_p2, 'MLP p1': nn_p1, 'GBC': gbc}\n",
    "\n",
    "scoresMCCV = {}\n",
    "for pipe in pipelines:\n",
    "    scoresMCCV[pipe] = np.zeros(1000)"
   ]
  },
  {
   "cell_type": "code",
   "execution_count": 18,
   "metadata": {},
   "outputs": [
    {
     "name": "stdout",
     "output_type": "stream",
     "text": [
      "Monte Carlo CV for all pipelnes\n",
      "training...\n",
      "0  10  20  30  40  50  60  70  80  90  100  \n",
      "110  120  130  140  150  160  170  180  190  200  \n",
      "210  220  230  240  250  260  270  280  290  300  \n",
      "310  320  330  340  350  360  370  380  390  400  \n",
      "410  420  430  440  450  460  470  480  490  500  \n",
      "510  520  530  540  550  560  570  580  590  600  \n",
      "610  620  630  640  650  660  670  680  690  700  \n",
      "710  720  730  740  750  760  770  780  790  800  \n",
      "810  820  830  840  850  860  870  880  890  900  \n",
      "910  920  930  940  950  960  970  980  990  \n",
      "Accuracy Statistics:\n",
      "Ridge p2 average score : 90.4 %\n",
      "Ridge p2 standard deviation: 2.2 %\n",
      "Best and Worst Scores:\n",
      "Best Ridge p2 score :  96.97 %. Obtained at Random State :  512\n",
      "WorstRidge p2score :  83.03 %. Obtained at Random State :  135\n",
      "\n",
      "Ridge average score : 84.75 %\n",
      "Ridge standard deviation: 2.6 %\n",
      "Best and Worst Scores:\n",
      "Best Ridge score :  92.73 %. Obtained at Random State :  6\n",
      "WorstRidgescore :  76.97 %. Obtained at Random State :  158\n",
      "\n",
      "MLP p1 average score : 90.16 %\n",
      "MLP p1 standard deviation: 2.27 %\n",
      "Best and Worst Scores:\n",
      "Best MLP p1 score :  96.97 %. Obtained at Random State :  93\n",
      "WorstMLP p1score :  83.64 %. Obtained at Random State :  135\n",
      "\n",
      "KNN p2 average score : 83.07 %\n",
      "KNN p2 standard deviation: 2.8 %\n",
      "Best and Worst Scores:\n",
      "Best KNN p2 score :  90.91 %. Obtained at Random State :  84\n",
      "WorstKNN p2score :  72.73 %. Obtained at Random State :  667\n",
      "\n",
      "SVC p1 average score : 84.97 %\n",
      "SVC p1 standard deviation: 2.73 %\n",
      "Best and Worst Scores:\n",
      "Best SVC p1 score :  93.33 %. Obtained at Random State :  93\n",
      "WorstSVC p1score :  75.15 %. Obtained at Random State :  583\n",
      "\n",
      "SVC p2 average score : 90.51 %\n",
      "SVC p2 standard deviation: 2.28 %\n",
      "Best and Worst Scores:\n",
      "Best SVC p2 score :  98.18 %. Obtained at Random State :  833\n",
      "WorstSVC p2score :  82.42 %. Obtained at Random State :  530\n",
      "\n",
      "LogReg average score : 83.32 %\n",
      "LogReg standard deviation: 2.68 %\n",
      "Best and Worst Scores:\n",
      "Best LogReg score :  92.73 %. Obtained at Random State :  406\n",
      "WorstLogRegscore :  75.76 %. Obtained at Random State :  388\n",
      "\n",
      "Ridge p1 average score : 84.38 %\n",
      "Ridge p1 standard deviation: 2.68 %\n",
      "Best and Worst Scores:\n",
      "Best Ridge p1 score :  93.33 %. Obtained at Random State :  406\n",
      "WorstRidge p1score :  76.97 %. Obtained at Random State :  321\n",
      "\n",
      "MLP p2 average score : 90.78 %\n",
      "MLP p2 standard deviation: 2.14 %\n",
      "Best and Worst Scores:\n",
      "Best MLP p2 score :  96.36 %. Obtained at Random State :  93\n",
      "WorstMLP p2score :  83.64 %. Obtained at Random State :  337\n",
      "\n",
      "KNN p1 average score : 84.71 %\n",
      "KNN p1 standard deviation: 2.68 %\n",
      "Best and Worst Scores:\n",
      "Best KNN p1 score :  92.73 %. Obtained at Random State :  943\n",
      "WorstKNN p1score :  76.36 %. Obtained at Random State :  480\n",
      "\n",
      "KNN average score : 81.78 %\n",
      "KNN standard deviation: 2.7 %\n",
      "Best and Worst Scores:\n",
      "Best KNN score :  90.3 %. Obtained at Random State :  584\n",
      "WorstKNNscore :  72.73 %. Obtained at Random State :  812\n",
      "\n",
      "MLP average score : 82.44 %\n",
      "MLP standard deviation: 4.06 %\n",
      "Best and Worst Scores:\n",
      "Best MLP score :  92.73 %. Obtained at Random State :  406\n",
      "WorstMLPscore :  64.24 %. Obtained at Random State :  593\n",
      "\n",
      "GBC average score : 92.19 %\n",
      "GBC standard deviation: 1.95 %\n",
      "Best and Worst Scores:\n",
      "Best GBC score :  98.18 %. Obtained at Random State :  500\n",
      "WorstGBCscore :  85.45 %. Obtained at Random State :  608\n",
      "\n",
      "LogReg p2 average score : 81.29 %\n",
      "LogReg p2 standard deviation: 8.96 %\n",
      "Best and Worst Scores:\n",
      "Best LogReg p2 score :  96.36 %. Obtained at Random State :  584\n",
      "WorstLogReg p2score :  49.7 %. Obtained at Random State :  109\n",
      "\n",
      "LogReg p1 average score : 85.08 %\n",
      "LogReg p1 standard deviation: 2.66 %\n",
      "Best and Worst Scores:\n",
      "Best LogReg p1 score :  94.55 %. Obtained at Random State :  93\n",
      "WorstLogReg p1score :  76.97 %. Obtained at Random State :  550\n",
      "\n",
      "SVC average score : 83.86 %\n",
      "SVC standard deviation: 2.67 %\n",
      "Best and Worst Scores:\n",
      "Best SVC score :  92.12 %. Obtained at Random State :  406\n",
      "WorstSVCscore :  75.76 %. Obtained at Random State :  331\n",
      "\n"
     ]
    }
   ],
   "source": [
    "# Running Monte-Carlo CV\n",
    "\n",
    "print('Monte Carlo CV for all pipelnes')\n",
    "print('training...')\n",
    "for k in range(1000):\n",
    "    X_tr, X_ts, y_tr, y_ts = train_test_split(X_m,y,test_size=0.15, random_state=k)\n",
    "    \n",
    "    if k % 10 == 0:                  #Printout of time progress\n",
    "        print(k,' ', end='')\n",
    "        if k % 100 == 0 and k > 0:\n",
    "            print('')\n",
    "    for pipe in pipelines:\n",
    "        clsf = pipelines[pipe]\n",
    "        clsf.fit(X_tr, y_tr)\n",
    "        scoresMCCV[pipe][k] = accuracy_score(y_ts, clsf.predict(X_ts))\n",
    "    \n",
    "    \n",
    "print('')\n",
    "print('Accuracy Statistics:')\n",
    "\n",
    "for pipe in pipelines:\n",
    "    \n",
    "    print(pipe + ' average score :', 100 *round(scoresMCCV[pipe].mean(),4), '%')\n",
    "    print(pipe + ' standard deviation:', 100 *round(scoresMCCV[pipe].std(),4), '%')\n",
    "    print('Best and Worst Scores:')\n",
    "    print('Best ' + pipe + ' score : ', 100* round(max(scoresMCCV[pipe]),4),\n",
    "          '%. Obtained at Random State : ', np.argmax(scoresMCCV[pipe]))\n",
    "    print('Worst' + pipe + 'score : ', 100* round(min(scoresMCCV[pipe]),4),\n",
    "          '%. Obtained at Random State : ', np.argmin(scoresMCCV[pipe]))\n",
    "    print('')\n"
   ]
  },
  {
   "cell_type": "code",
   "execution_count": 29,
   "metadata": {
    "collapsed": true
   },
   "outputs": [],
   "source": [
    "# Confusion Matrix Function.\n",
    "\n",
    "def get_conf_matrix(rand_state, clf, clf_name):\n",
    "    X_tr, X_ts, y_tr, y_ts = train_test_split(X_m,y,test_size=0.15, random_state=rand_state)\n",
    "    clf.fit(X_tr, y_tr)\n",
    "    df = pd.DataFrame(confusion_matrix(y_ts, clf.predict(X_ts)))\n",
    "    df.columns = ['Predicted Mozart', 'Predicted Handel']\n",
    "    df.columns.name = clf_name\n",
    "    df.index = ['True Mozart', 'True Handel']\n",
    "    cmap = sns.light_palette((237, 85, 74), input=\"husl\",as_cmap=True)\n",
    "    \n",
    "    \n",
    "    \n",
    "    \n",
    "    return sns.heatmap(df,annot=True, fmt='d', cbar=0, cmap=cmap, annot_kws={\"size\": 20})"
   ]
  },
  {
   "cell_type": "code",
   "execution_count": 23,
   "metadata": {},
   "outputs": [
    {
     "data": {
      "text/html": [
       "<div>\n",
       "<table border=\"1\" class=\"dataframe\">\n",
       "  <thead>\n",
       "    <tr style=\"text-align: right;\">\n",
       "      <th>Performance</th>\n",
       "      <th>Best Score</th>\n",
       "      <th>Worst Score</th>\n",
       "      <th>Average Score</th>\n",
       "      <th>Standard Dev.</th>\n",
       "    </tr>\n",
       "  </thead>\n",
       "  <tbody>\n",
       "    <tr>\n",
       "      <th>GBC</th>\n",
       "      <td>98.18%</td>\n",
       "      <td>85.45%</td>\n",
       "      <td>92.19%</td>\n",
       "      <td>1.95%</td>\n",
       "    </tr>\n",
       "    <tr>\n",
       "      <th>KNN</th>\n",
       "      <td>90.3%</td>\n",
       "      <td>72.73%</td>\n",
       "      <td>81.78%</td>\n",
       "      <td>2.7%</td>\n",
       "    </tr>\n",
       "    <tr>\n",
       "      <th>KNN p1</th>\n",
       "      <td>92.73%</td>\n",
       "      <td>76.36%</td>\n",
       "      <td>84.71%</td>\n",
       "      <td>2.68%</td>\n",
       "    </tr>\n",
       "    <tr>\n",
       "      <th>KNN p2</th>\n",
       "      <td>90.91%</td>\n",
       "      <td>72.73%</td>\n",
       "      <td>83.07%</td>\n",
       "      <td>2.8%</td>\n",
       "    </tr>\n",
       "    <tr>\n",
       "      <th>LogReg</th>\n",
       "      <td>92.73%</td>\n",
       "      <td>75.76%</td>\n",
       "      <td>83.32%</td>\n",
       "      <td>2.68%</td>\n",
       "    </tr>\n",
       "    <tr>\n",
       "      <th>LogReg p1</th>\n",
       "      <td>94.55%</td>\n",
       "      <td>76.97%</td>\n",
       "      <td>85.08%</td>\n",
       "      <td>2.66%</td>\n",
       "    </tr>\n",
       "    <tr>\n",
       "      <th>LogReg p2</th>\n",
       "      <td>96.36%</td>\n",
       "      <td>49.7%</td>\n",
       "      <td>81.29%</td>\n",
       "      <td>8.96%</td>\n",
       "    </tr>\n",
       "    <tr>\n",
       "      <th>MLP</th>\n",
       "      <td>92.73%</td>\n",
       "      <td>64.24%</td>\n",
       "      <td>82.44%</td>\n",
       "      <td>4.06%</td>\n",
       "    </tr>\n",
       "    <tr>\n",
       "      <th>MLP p1</th>\n",
       "      <td>96.97%</td>\n",
       "      <td>83.64%</td>\n",
       "      <td>90.16%</td>\n",
       "      <td>2.27%</td>\n",
       "    </tr>\n",
       "    <tr>\n",
       "      <th>MLP p2</th>\n",
       "      <td>96.36%</td>\n",
       "      <td>83.64%</td>\n",
       "      <td>90.78%</td>\n",
       "      <td>2.14%</td>\n",
       "    </tr>\n",
       "    <tr>\n",
       "      <th>Ridge</th>\n",
       "      <td>92.73%</td>\n",
       "      <td>76.97%</td>\n",
       "      <td>84.75%</td>\n",
       "      <td>2.6%</td>\n",
       "    </tr>\n",
       "    <tr>\n",
       "      <th>Ridge p1</th>\n",
       "      <td>93.33%</td>\n",
       "      <td>76.97%</td>\n",
       "      <td>84.38%</td>\n",
       "      <td>2.68%</td>\n",
       "    </tr>\n",
       "    <tr>\n",
       "      <th>Ridge p2</th>\n",
       "      <td>96.97%</td>\n",
       "      <td>83.03%</td>\n",
       "      <td>90.4%</td>\n",
       "      <td>2.2%</td>\n",
       "    </tr>\n",
       "    <tr>\n",
       "      <th>SVC</th>\n",
       "      <td>92.12%</td>\n",
       "      <td>75.76%</td>\n",
       "      <td>83.86%</td>\n",
       "      <td>2.67%</td>\n",
       "    </tr>\n",
       "    <tr>\n",
       "      <th>SVC p1</th>\n",
       "      <td>93.33%</td>\n",
       "      <td>75.15%</td>\n",
       "      <td>84.97%</td>\n",
       "      <td>2.73%</td>\n",
       "    </tr>\n",
       "    <tr>\n",
       "      <th>SVC p2</th>\n",
       "      <td>98.18%</td>\n",
       "      <td>82.42%</td>\n",
       "      <td>90.51%</td>\n",
       "      <td>2.28%</td>\n",
       "    </tr>\n",
       "  </tbody>\n",
       "</table>\n",
       "</div>"
      ],
      "text/plain": [
       "Performance Best Score Worst Score Average Score Standard Dev.\n",
       "GBC             98.18%      85.45%        92.19%         1.95%\n",
       "KNN              90.3%      72.73%        81.78%          2.7%\n",
       "KNN p1          92.73%      76.36%        84.71%         2.68%\n",
       "KNN p2          90.91%      72.73%        83.07%          2.8%\n",
       "LogReg          92.73%      75.76%        83.32%         2.68%\n",
       "LogReg p1       94.55%      76.97%        85.08%         2.66%\n",
       "LogReg p2       96.36%       49.7%        81.29%         8.96%\n",
       "MLP             92.73%      64.24%        82.44%         4.06%\n",
       "MLP p1          96.97%      83.64%        90.16%         2.27%\n",
       "MLP p2          96.36%      83.64%        90.78%         2.14%\n",
       "Ridge           92.73%      76.97%        84.75%          2.6%\n",
       "Ridge p1        93.33%      76.97%        84.38%         2.68%\n",
       "Ridge p2        96.97%      83.03%         90.4%          2.2%\n",
       "SVC             92.12%      75.76%        83.86%         2.67%\n",
       "SVC p1          93.33%      75.15%        84.97%         2.73%\n",
       "SVC p2          98.18%      82.42%        90.51%         2.28%"
      ]
     },
     "execution_count": 23,
     "metadata": {},
     "output_type": "execute_result"
    }
   ],
   "source": [
    "# Creating summary table of best and worst results.\n",
    "\n",
    "pipe_names = sorted(list(pipelines))\n",
    "bst, wst, avg, std = [], [], [], []\n",
    "for pipe in pipe_names:\n",
    "    bst.append(str(100 *round(scoresMCCV[pipe].max(),4))+'%')\n",
    "    wst.append(str(100 *round(scoresMCCV[pipe].min(),4))+'%')\n",
    "    avg.append(str(100 *round(scoresMCCV[pipe].mean(),4))+'%')\n",
    "    std.append(str(100 *round(scoresMCCV[pipe].std(),4))+'%')\n",
    "    \n",
    "res_df = pd.DataFrame(pd.Series(bst))\n",
    "res_df.columns = ['Best Score']\n",
    "res_df.index = pipe_names\n",
    "res_df['Worst Score'] = wst\n",
    "res_df['Average Score'] = avg\n",
    "res_df['Standard Dev.'] = std\n",
    "res_df.columns.name = 'Performance'\n",
    "res_df"
   ]
  },
  {
   "cell_type": "code",
   "execution_count": 28,
   "metadata": {},
   "outputs": [
    {
     "data": {
      "text/html": [
       "<div>\n",
       "<table border=\"1\" class=\"dataframe\">\n",
       "  <thead>\n",
       "    <tr style=\"text-align: right;\">\n",
       "      <th>Performance</th>\n",
       "      <th>Best Score</th>\n",
       "      <th>Worst Score</th>\n",
       "      <th>Average Score</th>\n",
       "      <th>Standard Dev.</th>\n",
       "    </tr>\n",
       "  </thead>\n",
       "  <tbody>\n",
       "    <tr>\n",
       "      <th>GBC</th>\n",
       "      <td>98.18%</td>\n",
       "      <td>85.45%</td>\n",
       "      <td>92.19%</td>\n",
       "      <td>1.95%</td>\n",
       "    </tr>\n",
       "    <tr>\n",
       "      <th>MLP p2</th>\n",
       "      <td>96.36%</td>\n",
       "      <td>83.64%</td>\n",
       "      <td>90.78%</td>\n",
       "      <td>2.14%</td>\n",
       "    </tr>\n",
       "    <tr>\n",
       "      <th>SVC p2</th>\n",
       "      <td>98.18%</td>\n",
       "      <td>82.42%</td>\n",
       "      <td>90.51%</td>\n",
       "      <td>2.28%</td>\n",
       "    </tr>\n",
       "    <tr>\n",
       "      <th>Ridge p2</th>\n",
       "      <td>96.97%</td>\n",
       "      <td>83.03%</td>\n",
       "      <td>90.4%</td>\n",
       "      <td>2.2%</td>\n",
       "    </tr>\n",
       "    <tr>\n",
       "      <th>MLP p1</th>\n",
       "      <td>96.97%</td>\n",
       "      <td>83.64%</td>\n",
       "      <td>90.16%</td>\n",
       "      <td>2.27%</td>\n",
       "    </tr>\n",
       "    <tr>\n",
       "      <th>LogReg p1</th>\n",
       "      <td>94.55%</td>\n",
       "      <td>76.97%</td>\n",
       "      <td>85.08%</td>\n",
       "      <td>2.66%</td>\n",
       "    </tr>\n",
       "    <tr>\n",
       "      <th>SVC p1</th>\n",
       "      <td>93.33%</td>\n",
       "      <td>75.15%</td>\n",
       "      <td>84.97%</td>\n",
       "      <td>2.73%</td>\n",
       "    </tr>\n",
       "    <tr>\n",
       "      <th>Ridge</th>\n",
       "      <td>92.73%</td>\n",
       "      <td>76.97%</td>\n",
       "      <td>84.75%</td>\n",
       "      <td>2.6%</td>\n",
       "    </tr>\n",
       "    <tr>\n",
       "      <th>KNN p1</th>\n",
       "      <td>92.73%</td>\n",
       "      <td>76.36%</td>\n",
       "      <td>84.71%</td>\n",
       "      <td>2.68%</td>\n",
       "    </tr>\n",
       "    <tr>\n",
       "      <th>Ridge p1</th>\n",
       "      <td>93.33%</td>\n",
       "      <td>76.97%</td>\n",
       "      <td>84.38%</td>\n",
       "      <td>2.68%</td>\n",
       "    </tr>\n",
       "    <tr>\n",
       "      <th>SVC</th>\n",
       "      <td>92.12%</td>\n",
       "      <td>75.76%</td>\n",
       "      <td>83.86%</td>\n",
       "      <td>2.67%</td>\n",
       "    </tr>\n",
       "    <tr>\n",
       "      <th>LogReg</th>\n",
       "      <td>92.73%</td>\n",
       "      <td>75.76%</td>\n",
       "      <td>83.32%</td>\n",
       "      <td>2.68%</td>\n",
       "    </tr>\n",
       "    <tr>\n",
       "      <th>KNN p2</th>\n",
       "      <td>90.91%</td>\n",
       "      <td>72.73%</td>\n",
       "      <td>83.07%</td>\n",
       "      <td>2.8%</td>\n",
       "    </tr>\n",
       "    <tr>\n",
       "      <th>MLP</th>\n",
       "      <td>92.73%</td>\n",
       "      <td>64.24%</td>\n",
       "      <td>82.44%</td>\n",
       "      <td>4.06%</td>\n",
       "    </tr>\n",
       "    <tr>\n",
       "      <th>KNN</th>\n",
       "      <td>90.3%</td>\n",
       "      <td>72.73%</td>\n",
       "      <td>81.78%</td>\n",
       "      <td>2.7%</td>\n",
       "    </tr>\n",
       "    <tr>\n",
       "      <th>LogReg p2</th>\n",
       "      <td>96.36%</td>\n",
       "      <td>49.7%</td>\n",
       "      <td>81.29%</td>\n",
       "      <td>8.96%</td>\n",
       "    </tr>\n",
       "  </tbody>\n",
       "</table>\n",
       "</div>"
      ],
      "text/plain": [
       "Performance Best Score Worst Score Average Score Standard Dev.\n",
       "GBC             98.18%      85.45%        92.19%         1.95%\n",
       "MLP p2          96.36%      83.64%        90.78%         2.14%\n",
       "SVC p2          98.18%      82.42%        90.51%         2.28%\n",
       "Ridge p2        96.97%      83.03%         90.4%          2.2%\n",
       "MLP p1          96.97%      83.64%        90.16%         2.27%\n",
       "LogReg p1       94.55%      76.97%        85.08%         2.66%\n",
       "SVC p1          93.33%      75.15%        84.97%         2.73%\n",
       "Ridge           92.73%      76.97%        84.75%          2.6%\n",
       "KNN p1          92.73%      76.36%        84.71%         2.68%\n",
       "Ridge p1        93.33%      76.97%        84.38%         2.68%\n",
       "SVC             92.12%      75.76%        83.86%         2.67%\n",
       "LogReg          92.73%      75.76%        83.32%         2.68%\n",
       "KNN p2          90.91%      72.73%        83.07%          2.8%\n",
       "MLP             92.73%      64.24%        82.44%         4.06%\n",
       "KNN              90.3%      72.73%        81.78%          2.7%\n",
       "LogReg p2       96.36%       49.7%        81.29%         8.96%"
      ]
     },
     "execution_count": 28,
     "metadata": {},
     "output_type": "execute_result"
    }
   ],
   "source": [
    "# Sorted List of results\n",
    "\n",
    "res_df.sort_values(by='Average Score',ascending=0)"
   ]
  },
  {
   "cell_type": "code",
   "execution_count": 40,
   "metadata": {},
   "outputs": [
    {
     "name": "stderr",
     "output_type": "stream",
     "text": [
      "/home/james/anaconda3/lib/python3.5/site-packages/statsmodels/nonparametric/kdetools.py:20: VisibleDeprecationWarning: using a non-integer number instead of an integer will result in an error in the future\n",
      "  y = X[:m/2+1] + np.r_[0,X[m/2+1:],0]*1j\n"
     ]
    },
    {
     "data": {
      "text/plain": [
       "<matplotlib.legend.Legend at 0x7f06656bd780>"
      ]
     },
     "execution_count": 40,
     "metadata": {},
     "output_type": "execute_result"
    },
    {
     "data": {
      "image/png": "[encoded data removed]",
      "text/plain": [
       "<matplotlib.figure.Figure at 0x7f06656c5e10>"
      ]
     },
     "metadata": {},
     "output_type": "display_data"
    }
   ],
   "source": [
    "plt.figure(figsize=(10,6))\n",
    "g = sns.kdeplot(scoresMCCV['GBC'],shade=True, color='black')\n",
    "sns.kdeplot(scoresMCCV['SVC p2'],shade=True, color='blue')\n",
    "sns.kdeplot(scoresMCCV['MLP p2'],shade=True, color='red')\n",
    "sns.kdeplot(scoresMCCV['Ridge p2'],shade=True, color='green')\n",
    "sns.kdeplot(scoresMCCV['LogReg p1'],shade=True, color='cyan')\n",
    "g.set(xlim=(0.75,1))\n",
    "g.legend(['GBC','SVC p2', 'MLP p2', 'Ridge p2', 'LogReg p1'], loc=2)"
   ]
  },
  {
   "cell_type": "code",
   "execution_count": 41,
   "metadata": {
    "collapsed": true
   },
   "outputs": [],
   "source": [
    "# Creating function to plot normal distribution\n",
    "\n",
    "def gauss_dist(x, sigma, mu):\n",
    "    shift = -0.5 * ((x - mu) / sigma)**2\n",
    "    scale = sigma * np.sqrt(2 * np.pi)\n",
    "    return np.exp(shift) / scale"
   ]
  },
  {
   "cell_type": "code",
   "execution_count": 47,
   "metadata": {},
   "outputs": [
    {
     "name": "stderr",
     "output_type": "stream",
     "text": [
      "/home/james/anaconda3/lib/python3.5/site-packages/statsmodels/nonparametric/kdetools.py:20: VisibleDeprecationWarning: using a non-integer number instead of an integer will result in an error in the future\n",
      "  y = X[:m/2+1] + np.r_[0,X[m/2+1:],0]*1j\n"
     ]
    },
    {
     "data": {
      "text/plain": [
       "<matplotlib.legend.Legend at 0x7f0665284f28>"
      ]
     },
     "execution_count": 47,
     "metadata": {},
     "output_type": "execute_result"
    },
    {
     "data": {
      "image/png": "[encoded data removed]",
      "text/plain": [
       "<matplotlib.figure.Figure at 0x7f06652bf128>"
      ]
     },
     "metadata": {},
     "output_type": "display_data"
    }
   ],
   "source": [
    "x_range = np.arange(0.85,1,0.001)\n",
    "y_range = gauss_dist(x_range,scoresMCCV['GBC'].std(), scoresMCCV['GBC'].mean())\n",
    "g = sns.kdeplot(scoresMCCV['GBC'], color='red')\n",
    "plt.plot(x_range, y_range)\n",
    "g.legend(['Normal Dist'])"
   ]
  },
  {
   "cell_type": "code",
   "execution_count": 50,
   "metadata": {},
   "outputs": [
    {
     "name": "stderr",
     "output_type": "stream",
     "text": [
      "/home/james/anaconda3/lib/python3.5/site-packages/statsmodels/nonparametric/kdetools.py:20: VisibleDeprecationWarning: using a non-integer number instead of an integer will result in an error in the future\n",
      "  y = X[:m/2+1] + np.r_[0,X[m/2+1:],0]*1j\n"
     ]
    },
    {
     "data": {
      "text/plain": [
       "<matplotlib.legend.Legend at 0x7f06650fe2e8>"
      ]
     },
     "execution_count": 50,
     "metadata": {},
     "output_type": "execute_result"
    },
    {
     "data": {
      "image/png": "[encoded data removed]",
      "text/plain": [
       "<matplotlib.figure.Figure at 0x7f06651b4c88>"
      ]
     },
     "metadata": {},
     "output_type": "display_data"
    }
   ],
   "source": [
    "x_range = np.arange(0.80,1,0.001)\n",
    "y_range = gauss_dist(x_range,scoresMCCV['SVC p2'].std(), scoresMCCV['SVC p2'].mean())\n",
    "g = sns.kdeplot(scoresMCCV['SVC p2'], color='green')\n",
    "plt.plot(x_range, y_range, color = 'k')\n",
    "g.legend(['Normal Dist'])"
   ]
  },
  {
   "cell_type": "markdown",
   "metadata": {},
   "source": [
    "SVC p2 average score : 90.51 %\n",
    "SVC p2 standard deviation: 2.28 %\n",
    "Best and Worst Scores:\n",
    "Best SVC p2 score :  98.18 %. Obtained at Random State :  833\n",
    "WorstSVC p2score :  82.42 %. Obtained at Random State :  530\n",
    "\n",
    "\n",
    "GBC average score : 92.19 %\n",
    "GBC standard deviation: 1.95 %\n",
    "Best and Worst Scores:\n",
    "Best GBC score :  98.18 %. Obtained at Random State :  500\n",
    "WorstGBCscore :  85.45 %. Obtained at Random State :  608"
   ]
  },
  {
   "cell_type": "code",
   "execution_count": 30,
   "metadata": {},
   "outputs": [
    {
     "data": {
      "text/plain": [
       "<matplotlib.axes._subplots.AxesSubplot at 0x7f0665adea90>"
      ]
     },
     "execution_count": 30,
     "metadata": {},
     "output_type": "execute_result"
    },
    {
     "data": {
      "image/png": "[encoded data removed]",
      "text/plain": [
       "<matplotlib.figure.Figure at 0x7f0665ade390>"
      ]
     },
     "metadata": {},
     "output_type": "display_data"
    }
   ],
   "source": [
    "get_conf_matrix(500, gbc, 'Best GBC')"
   ]
  },
  {
   "cell_type": "code",
   "execution_count": 31,
   "metadata": {},
   "outputs": [
    {
     "data": {
      "text/plain": [
       "<matplotlib.axes._subplots.AxesSubplot at 0x7f0665a0e2b0>"
      ]
     },
     "execution_count": 31,
     "metadata": {},
     "output_type": "execute_result"
    },
    {
     "data": {
      "image/png": "[encoded data removed]",
      "text/plain": [
       "<matplotlib.figure.Figure at 0x7f0665a42c50>"
      ]
     },
     "metadata": {},
     "output_type": "display_data"
    }
   ],
   "source": [
    "get_conf_matrix(608, gbc, 'Worst GBC')"
   ]
  },
  {
   "cell_type": "code",
   "execution_count": 32,
   "metadata": {},
   "outputs": [
    {
     "data": {
      "text/plain": [
       "<matplotlib.axes._subplots.AxesSubplot at 0x7f0665a17860>"
      ]
     },
     "execution_count": 32,
     "metadata": {},
     "output_type": "execute_result"
    },
    {
     "data": {
      "image/png": "[encoded data removed]",
      "text/plain": [
       "<matplotlib.figure.Figure at 0x7f0665a20080>"
      ]
     },
     "metadata": {},
     "output_type": "display_data"
    }
   ],
   "source": [
    "get_conf_matrix(833, svm_p2, 'Best SVC')"
   ]
  },
  {
   "cell_type": "code",
   "execution_count": 33,
   "metadata": {},
   "outputs": [
    {
     "data": {
      "text/plain": [
       "<matplotlib.axes._subplots.AxesSubplot at 0x7f06659f30f0>"
      ]
     },
     "execution_count": 33,
     "metadata": {},
     "output_type": "execute_result"
    },
    {
     "data": {
      "image/png": "[encoded data removed]",
      "text/plain": [
       "<matplotlib.figure.Figure at 0x7f06659f8710>"
      ]
     },
     "metadata": {},
     "output_type": "display_data"
    }
   ],
   "source": [
    "get_conf_matrix(530, svm_p2, 'Worst SVC')"
   ]
  }
 ],
 "metadata": {
  "anaconda-cloud": {},
  "kernelspec": {
   "display_name": "Python [conda root]",
   "language": "python",
   "name": "conda-root-py"
  },
  "language_info": {
   "codemirror_mode": {
    "name": "ipython",
    "version": 3
   },
   "file_extension": ".py",
   "mimetype": "text/x-python",
   "name": "python",
   "nbconvert_exporter": "python",
   "pygments_lexer": "ipython3",
   "version": "3.5.2"
  }
 },
 "nbformat": 4,
 "nbformat_minor": 1
}
