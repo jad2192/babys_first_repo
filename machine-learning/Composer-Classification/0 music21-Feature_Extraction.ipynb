{
 "cells": [
  {
   "cell_type": "code",
   "execution_count": null,
   "metadata": {
    "collapsed": false
   },
   "outputs": [],
   "source": [
    "import music21\n",
    "import os\n",
    "import glob"
   ]
  },
  {
   "cell_type": "code",
   "execution_count": null,
   "metadata": {
    "collapsed": true
   },
   "outputs": [],
   "source": [
    "# Creating a music21 DataSet object and choosing the feature extractors to be used.\n",
    "\n",
    "ds = music21.features.base.DataSet(classLabel='Composer')\n",
    "features =['ql1','ql2','ql3']\n",
    "p_feat = list(range(1,17)) + [19,20,21]\n",
    "r_feat = [31,32,33,34,35]\n",
    "\n",
    "for k in p_feat:\n",
    "    \n",
    "    features.append('p'+str(k))\n",
    "    \n",
    "for k in r_feat:\n",
    "    \n",
    "    features.append('r'+str(k))\n",
    "    \n",
    "    \n",
    "fes = music21.features.extractorsById(features) \n",
    "ds.addFeatureExtractors(fes)\n",
    "\n",
    "seen_songs_0 = []\n",
    "seen_songs_1 = []\n",
    "k, l = 1,  1\n",
    "\n",
    "folder_0 = '/DirectorytoComposer0'\n",
    "folder_1 = '/DirectorytoComposer1'"
   ]
  },
  {
   "cell_type": "code",
   "execution_count": null,
   "metadata": {
    "collapsed": true
   },
   "outputs": [],
   "source": [
    "# Parsing the MIDI files and loading them into music21 DataSet obejct to extract later.\n",
    "# Print the name of the file in case of corrupted music files to remove. Use the seen songs lists\n",
    "# to keep track of seen songs in case a corrupt file throws an error and cell needs to be re-run.\n",
    "\n",
    "for filename in os.listdir(folder_0):\n",
    "    if str(os.path.join(folder_0, filename)) not in seen_songs_0:\n",
    "        print(str(os.path.join(folder_0, filename)), k)\n",
    "        ds.addData(music21.converter.parse(str(os.path.join(folder_0, filename))),\n"
    "                   classValue=0)\n",
    "        seen_songs_0.append(str(os.path.join(folder_0, filename)))\n",
    "    k += 1\n",
    "\n",
    "for filename in os.listdir(folder_1):\n",
    "    if str(os.path.join(folder_1, filename)) not in seen_songs_1:\n",
    "        print(str(os.path.join(folder_1, filename)), l)\n",
    "        ds.addData(music21.converter.parse(str(os.path.join(folder_1, filename))),\n" 
    "                   classValue=1)\n",
    "        seen_songs_1.append(str(os.path.join(folder_1, filename)))\n",
    "    l += 1"
   ]
  },
  {
   "cell_type": "code",
   "execution_count": null,
   "metadata": {
    "collapsed": false
   },
   "outputs": [],
   "source": [
    "# Process extracts all of the features from the parsed MIDI files and then we write them\n",
    "# to a .csv file to be loaded later for pre-processing and modeling.\n",
    "\n",
    "ds.process()\n",
    "ds.write(fp='DirectorytoSave', format='csv')"
   ]
  }
 ],
 "metadata": {
  "anaconda-cloud": {},
  "kernelspec": {
   "display_name": "Python [conda root]",
   "language": "python",
   "name": "conda-root-py"
  },
  "language_info": {
   "codemirror_mode": {
    "name": "ipython",
    "version": 3
   },
   "file_extension": ".py",
   "mimetype": "text/x-python",
   "name": "python",
   "nbconvert_exporter": "python",
   "pygments_lexer": "ipython3",
   "version": "3.5.2"
  }
 },
 "nbformat": 4,
 "nbformat_minor": 1
}
